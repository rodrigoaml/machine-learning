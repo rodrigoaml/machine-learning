{
 "cells": [
  {
   "cell_type": "markdown",
   "metadata": {},
   "source": [
    "# Machine Learning Engineer Nanodegree\n",
    "## Model Evaluation & Validation\n",
    "## Project: Predicting Boston Housing Prices\n",
    "\n",
    "Welcome to the first project of the Machine Learning Engineer Nanodegree! In this notebook, some template code has already been provided for you, and you will need to implement additional functionality to successfully complete this project. You will not need to modify the included code beyond what is requested. Sections that begin with **'Implementation'** in the header indicate that the following block of code will require additional functionality which you must provide. Instructions will be provided for each section and the specifics of the implementation are marked in the code block with a 'TODO' statement. Please be sure to read the instructions carefully!\n",
    "\n",
    "In addition to implementing code, there will be questions that you must answer which relate to the project and your implementation. Each section where you will answer a question is preceded by a **'Question X'** header. Carefully read each question and provide thorough answers in the following text boxes that begin with **'Answer:'**. Your project submission will be evaluated based on your answers to each of the questions and the implementation you provide.  \n",
    "\n",
    ">**Note:** Code and Markdown cells can be executed using the **Shift + Enter** keyboard shortcut. In addition, Markdown cells can be edited by typically double-clicking the cell to enter edit mode."
   ]
  },
  {
   "cell_type": "markdown",
   "metadata": {},
   "source": [
    "## Getting Started\n",
    "In this project, you will evaluate the performance and predictive power of a model that has been trained and tested on data collected from homes in suburbs of Boston, Massachusetts. A model trained on this data that is seen as a *good fit* could then be used to make certain predictions about a home — in particular, its monetary value. This model would prove to be invaluable for someone like a real estate agent who could make use of such information on a daily basis.\n",
    "\n",
    "The dataset for this project originates from the [UCI Machine Learning Repository](https://archive.ics.uci.edu/ml/datasets/Housing). The Boston housing data was collected in 1978 and each of the 506 entries represent aggregated data about 14 features for homes from various suburbs in Boston, Massachusetts. For the purposes of this project, the following preprocessing steps have been made to the dataset:\n",
    "- 16 data points have an `'MEDV'` value of 50.0. These data points likely contain **missing or censored values** and have been removed.\n",
    "- 1 data point has an `'RM'` value of 8.78. This data point can be considered an **outlier** and has been removed.\n",
    "- The features `'RM'`, `'LSTAT'`, `'PTRATIO'`, and `'MEDV'` are essential. The remaining **non-relevant features** have been excluded.\n",
    "- The feature `'MEDV'` has been **multiplicatively scaled** to account for 35 years of market inflation.\n",
    "\n",
    "Run the code cell below to load the Boston housing dataset, along with a few of the necessary Python libraries required for this project. You will know the dataset loaded successfully if the size of the dataset is reported."
   ]
  },
  {
   "cell_type": "code",
   "execution_count": 1,
   "metadata": {
    "collapsed": true
   },
   "outputs": [
    {
     "name": "stdout",
     "output_type": "stream",
     "text": [
      "Boston housing dataset has 489 data points with 4 variables each.\n"
     ]
    }
   ],
   "source": [
    "# Import libraries necessary for this project\n",
    "import numpy as np\n",
    "import pandas as pd\n",
    "from sklearn.cross_validation import ShuffleSplit\n",
    "\n",
    "# Import supplementary visualizations code visuals.py\n",
    "import visuals as vs\n",
    "\n",
    "# Pretty display for notebooks\n",
    "%matplotlib inline\n",
    "\n",
    "# Load the Boston housing dataset\n",
    "data = pd.read_csv('housing.csv')\n",
    "prices = data['MEDV']\n",
    "features = data.drop('MEDV', axis = 1)\n",
    "    \n",
    "# Success\n",
    "print \"Boston housing dataset has {} data points with {} variables each.\".format(*data.shape)"
   ]
  },
  {
   "cell_type": "markdown",
   "metadata": {},
   "source": [
    "## Data Exploration\n",
    "In this first section of this project, you will make a cursory investigation about the Boston housing data and provide your observations. Familiarizing yourself with the data through an explorative process is a fundamental practice to help you better understand and justify your results.\n",
    "\n",
    "Since the main goal of this project is to construct a working model which has the capability of predicting the value of houses, we will need to separate the dataset into **features** and the **target variable**. The **features**, `'RM'`, `'LSTAT'`, and `'PTRATIO'`, give us quantitative information about each data point. The **target variable**, `'MEDV'`, will be the variable we seek to predict. These are stored in `features` and `prices`, respectively."
   ]
  },
  {
   "cell_type": "markdown",
   "metadata": {},
   "source": [
    "### Implementation: Calculate Statistics\n",
    "For your very first coding implementation, you will calculate descriptive statistics about the Boston housing prices. Since `numpy` has already been imported for you, use this library to perform the necessary calculations. These statistics will be extremely important later on to analyze various prediction results from the constructed model.\n",
    "\n",
    "In the code cell below, you will need to implement the following:\n",
    "- Calculate the minimum, maximum, mean, median, and standard deviation of `'MEDV'`, which is stored in `prices`.\n",
    "  - Store each calculation in their respective variable."
   ]
  },
  {
   "cell_type": "code",
   "execution_count": 4,
   "metadata": {
    "collapsed": true
   },
   "outputs": [
    {
     "name": "stdout",
     "output_type": "stream",
     "text": [
      "Statistics for Boston housing dataset:\n",
      "\n",
      "Minimum price: $105,000.00\n",
      "Maximum price: $1,024,800.00\n",
      "Mean price: $454,342.94\n",
      "Median price $438,900.00\n",
      "Standard deviation of prices: $165,171.13\n"
     ]
    }
   ],
   "source": [
    "# TODO: Minimum price of the data\n",
    "minimum_price = np.amin(prices)\n",
    "\n",
    "# TODO: Maximum price of the data\n",
    "maximum_price = np.amax(prices)\n",
    "\n",
    "# TODO: Mean price of the data\n",
    "mean_price = np.mean(prices)\n",
    "\n",
    "# TODO: Median price of the data\n",
    "median_price = np.median(prices)\n",
    "\n",
    "# TODO: Standard deviation of prices of the data\n",
    "std_price = np.std(prices)\n",
    "\n",
    "# Show the calculated statistics\n",
    "print \"Statistics for Boston housing dataset:\\n\"\n",
    "print \"Minimum price: ${:,.2f}\".format(minimum_price)\n",
    "print \"Maximum price: ${:,.2f}\".format(maximum_price)\n",
    "print \"Mean price: ${:,.2f}\".format(mean_price)\n",
    "print \"Median price ${:,.2f}\".format(median_price)\n",
    "print \"Standard deviation of prices: ${:,.2f}\".format(std_price)"
   ]
  },
  {
   "cell_type": "markdown",
   "metadata": {},
   "source": [
    "### Question 1 - Feature Observation\n",
    "As a reminder, we are using three features from the Boston housing dataset: `'RM'`, `'LSTAT'`, and `'PTRATIO'`. For each data point (neighborhood):\n",
    "- `'RM'` is the average number of rooms among homes in the neighborhood.\n",
    "- `'LSTAT'` is the percentage of homeowners in the neighborhood considered \"lower class\" (working poor).\n",
    "- `'PTRATIO'` is the ratio of students to teachers in primary and secondary schools in the neighborhood.\n",
    "\n",
    "\n",
    "** Using your intuition, for each of the three features above, do you think that an increase in the value of that feature would lead to an **increase** in the value of `'MEDV'` or a **decrease** in the value of `'MEDV'`? Justify your answer for each.**\n",
    "\n",
    "**Hint:** This problem can phrased using examples like below.  \n",
    "* Would you expect a home that has an `'RM'` value(number of rooms) of 6 be worth more or less than a home that has an `'RM'` value of 7?\n",
    "* Would you expect a neighborhood that has an `'LSTAT'` value(percent of lower class workers) of 15 have home prices be worth more or less than a neighborhood that has an `'LSTAT'` value of 20?\n",
    "* Would you expect a neighborhood that has an `'PTRATIO'` value(ratio of students to teachers) of 10 have home prices be worth more or less than a neighborhood that has an `'PTRATIO'` value of 15?"
   ]
  },
  {
   "cell_type": "markdown",
   "metadata": {},
   "source": [
    "**Answer: ** \n",
    "\n",
    "* Starting with the RM feature, naturally a house with a higher number of rooms would take more real state, therefore increasing its cost. However, one should keep in mind that the room size could also be a good feature that would confirm the basic principle we've just stated.  \n",
    "\n",
    "* Considering the a priori knowledge we have about what sorrounds higher and lower classes neighborhood, we can take a guess that as the point in the axis called LSTAT moves, the MEDV will also move accordingly. To make a few examples, we can use security and education as variables that are correlated with LSTAT, and support our statement. However, I've seen a couple of classes on statistics, and a remarkable phrase has stuck with me ever since: \"Correlation does not mean causation\", which concludes that, even if my intuition says that in a rich neighborhood it is more likely for you to be safe and have access to better schools but with the burden of paying more money for a house, one cannot state that solely by LSTAT, that a neighborhood has all the traits we've mentioned. So yes, LSTAT does have a say with MEDV, to increase or decrease, but a few more features related to LSTAT would be ideal.\n",
    "\n",
    "* For the PTRATIO, I say yes to the causation on MEDV, given that we know a priori that the houses are in Boston, which is not a small city, that's because this feature could lure us into believing that less kids per teacher in class means better schools, given that all of their houses are expensive, but if we later on intend to build a model that can be useful for the whole country, it would be necessary to observe other features related to the school itself, the city, and so on. \n",
    "\n",
    "Summarizing, all of three features can have an impact on MEDV, given the basic knowledge we have about how society has divided itself. But for a more accurate and precise answer, it's necessary to get as much information as possible and train a model in a reasonable time, getting at the end acceptable performance over new cases. "
   ]
  },
  {
   "cell_type": "markdown",
   "metadata": {},
   "source": [
    "----\n",
    "\n",
    "## Developing a Model\n",
    "In this second section of the project, you will develop the tools and techniques necessary for a model to make a prediction. Being able to make accurate evaluations of each model's performance through the use of these tools and techniques helps to greatly reinforce the confidence in your predictions."
   ]
  },
  {
   "cell_type": "markdown",
   "metadata": {},
   "source": [
    "### Implementation: Define a Performance Metric\n",
    "It is difficult to measure the quality of a given model without quantifying its performance over training and testing. This is typically done using some type of performance metric, whether it is through calculating some type of error, the goodness of fit, or some other useful measurement. For this project, you will be calculating the [*coefficient of determination*](http://stattrek.com/statistics/dictionary.aspx?definition=coefficient_of_determination), R<sup>2</sup>, to quantify your model's performance. The coefficient of determination for a model is a useful statistic in regression analysis, as it often describes how \"good\" that model is at making predictions. \n",
    "\n",
    "The values for R<sup>2</sup> range from 0 to 1, which captures the percentage of squared correlation between the predicted and actual values of the **target variable**. A model with an R<sup>2</sup> of 0 is no better than a model that always predicts the *mean* of the target variable, whereas a model with an R<sup>2</sup> of 1 perfectly predicts the target variable. Any value between 0 and 1 indicates what percentage of the target variable, using this model, can be explained by the **features**. _A model can be given a negative R<sup>2</sup> as well, which indicates that the model is **arbitrarily worse** than one that always predicts the mean of the target variable._\n",
    "\n",
    "For the `performance_metric` function in the code cell below, you will need to implement the following:\n",
    "- Use `r2_score` from `sklearn.metrics` to perform a performance calculation between `y_true` and `y_predict`.\n",
    "- Assign the performance score to the `score` variable."
   ]
  },
  {
   "cell_type": "code",
   "execution_count": 7,
   "metadata": {
    "collapsed": true
   },
   "outputs": [],
   "source": [
    "# TODO: Import 'r2_score'\n",
    "from sklearn.metrics import r2_score\n",
    "\n",
    "def performance_metric(y_true, y_predict):\n",
    "    \"\"\" Calculates and returns the performance score between \n",
    "        true and predicted values based on the metric chosen. \"\"\"\n",
    "    \n",
    "    # TODO: Calculate the performance score between 'y_true' and 'y_predict'\n",
    "    score = r2_score(y_true, y_predict)\n",
    "    \n",
    "    # Return the score\n",
    "    return score"
   ]
  },
  {
   "cell_type": "markdown",
   "metadata": {},
   "source": [
    "### Question 2 - Goodness of Fit\n",
    "Assume that a dataset contains five data points and a model made the following predictions for the target variable:\n",
    "\n",
    "| True Value | Prediction |\n",
    "| :-------------: | :--------: |\n",
    "| 3.0 | 2.5 |\n",
    "| -0.5 | 0.0 |\n",
    "| 2.0 | 2.1 |\n",
    "| 7.0 | 7.8 |\n",
    "| 4.2 | 5.3 |\n",
    "\n",
    "Run the code cell below to use the `performance_metric` function and calculate this model's coefficient of determination."
   ]
  },
  {
   "cell_type": "code",
   "execution_count": 8,
   "metadata": {
    "collapsed": true
   },
   "outputs": [
    {
     "name": "stdout",
     "output_type": "stream",
     "text": [
      "Model has a coefficient of determination, R^2, of 0.923.\n"
     ]
    }
   ],
   "source": [
    "# Calculate the performance of this model\n",
    "score = performance_metric([3, -0.5, 2, 7, 4.2], [2.5, 0.0, 2.1, 7.8, 5.3])\n",
    "print \"Model has a coefficient of determination, R^2, of {:.3f}.\".format(score)"
   ]
  },
  {
   "cell_type": "markdown",
   "metadata": {},
   "source": [
<<<<<<< HEAD
    "**Answer:** Yes, the model score is clearly close to 1, which according the de R^2 definition, it's a good measure for the regression model, or that with minor tweaks, the model can successfully predict the target variable, meaning that predicted values of y are actually close to y real values."
=======
    "* Would you consider this model to have successfully captured the variation of the target variable? \n",
    "* Why or why not?\n",
    "\n",
    "** Hint: **  The R2 score is the proportion of the variance in the dependent variable that is predictable from the independent variable. In other words:\n",
    "* R2 score of 0 means that the dependent variable cannot be predicted from the independent variable.\n",
    "* R2 score of 1 means the dependent variable can be predicted from the independent variable.\n",
    "* R2 score between 0 and 1 indicates the extent to which the dependent variable is predictable. An \n",
    "* R2 score of 0.40 means that 40 percent of the variance in Y is predictable from X."
   ]
  },
  {
   "cell_type": "markdown",
   "metadata": {},
   "source": [
    "**Answer:**"
>>>>>>> upstream/master
   ]
  },
  {
   "cell_type": "markdown",
   "metadata": {},
   "source": [
    "### Implementation: Shuffle and Split Data\n",
    "Your next implementation requires that you take the Boston housing dataset and split the data into training and testing subsets. Typically, the data is also shuffled into a random order when creating the training and testing subsets to remove any bias in the ordering of the dataset.\n",
    "\n",
    "For the code cell below, you will need to implement the following:\n",
    "- Use `train_test_split` from `sklearn.cross_validation` to shuffle and split the `features` and `prices` data into training and testing sets.\n",
    "  - Split the data into 80% training and 20% testing.\n",
    "  - Set the `random_state` for `train_test_split` to a value of your choice. This ensures results are consistent.\n",
    "- Assign the train and testing splits to `X_train`, `X_test`, `y_train`, and `y_test`."
   ]
  },
  {
   "cell_type": "code",
   "execution_count": 9,
   "metadata": {
    "collapsed": true
   },
   "outputs": [
    {
     "name": "stdout",
     "output_type": "stream",
     "text": [
      "Training and testing split was successful.\n"
     ]
    }
   ],
   "source": [
    "# TODO: Import 'train_test_split'\n",
    "from sklearn.cross_validation import train_test_split\n",
    "# TODO: Shuffle and split the data into training and testing subsets\n",
    "X_train, X_test, y_train, y_test = train_test_split(features, prices, train_size=.8, random_state=10)\n",
    "\n",
    "# Success\n",
    "print \"Training and testing split was successful.\""
   ]
  },
  {
   "cell_type": "markdown",
   "metadata": {},
   "source": [
    "### Question 3 - Training and Testing\n",
    "\n",
    "* What is the benefit to splitting a dataset into some ratio of training and testing subsets for a learning algorithm?\n",
    "\n",
    "**Hint:** Think about how overfitting or underfitting is contingent upon how splits on data is done."
   ]
  },
  {
   "cell_type": "markdown",
   "metadata": {},
   "source": [
    "**Answer: ** This is particularly important for the reason that if an algorithm was trained using a complete set of examples and have never been validated in anything other than its training set, it is likely to get overfitted, which means that it can get a marvelous performance over training but ridiculous in real cases. So to adjust it properly, it's important to give it a diverse set of examples during the phases of training and testing, using different sets."
   ]
  },
  {
   "cell_type": "markdown",
   "metadata": {},
   "source": [
    "----\n",
    "\n",
    "## Analyzing Model Performance\n",
    "In this third section of the project, you'll take a look at several models' learning and testing performances on various subsets of training data. Additionally, you'll investigate one particular algorithm with an increasing `'max_depth'` parameter on the full training set to observe how model complexity affects performance. Graphing your model's performance based on varying criteria can be beneficial in the analysis process, such as visualizing behavior that may not have been apparent from the results alone."
   ]
  },
  {
   "cell_type": "markdown",
   "metadata": {},
   "source": [
    "### Learning Curves\n",
    "The following code cell produces four graphs for a decision tree model with different maximum depths. Each graph visualizes the learning curves of the model for both training and testing as the size of the training set is increased. Note that the shaded region of a learning curve denotes the uncertainty of that curve (measured as the standard deviation). The model is scored on both the training and testing sets using R<sup>2</sup>, the coefficient of determination.  \n",
    "\n",
    "Run the code cell below and use these graphs to answer the following question."
   ]
  },
  {
   "cell_type": "code",
   "execution_count": 10,
   "metadata": {
    "collapsed": true,
    "scrolled": false
   },
   "outputs": [
    {
     "data": {
      "image/png": "iVBORw0KGgoAAAANSUhEUgAAA0AAAAIKCAYAAAAK1y/8AAAABHNCSVQICAgIfAhkiAAAAAlwSFlz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\n",
      "text/plain": [
       "<matplotlib.figure.Figure at 0x10d372f10>"
      ]
     },
     "metadata": {},
     "output_type": "display_data"
    }
   ],
   "source": [
    "# Produce learning curves for varying training set sizes and maximum depths\n",
    "vs.ModelLearning(features, prices)"
   ]
  },
  {
   "cell_type": "markdown",
   "metadata": {},
   "source": [
    "### Question 4 - Learning the Data\n",
    "* Choose one of the graphs above and state the maximum depth for the model. \n",
    "* What happens to the score of the training curve as more training points are added? What about the testing curve? \n",
    "* Would having more training points benefit the model? \n",
    "\n",
    "**Hint:** Are the learning curves converging to particular scores? Generally speaking, the more data you have, the better. But if your training and testing curves are converging with a score above your benchmark threshold, would this be necessary?\n",
    "Think about the pros and cons of adding more training points based on if the training and testing curves are converging."
   ]
  },
  {
   "cell_type": "markdown",
   "metadata": {},
   "source": [
    "**Answer: ** Using the graph with max_depth = 10, we can see that it represents a model with an overfitting problem, it shows that the model got so complex, that it needs far more training points, so it can make the two curves converge, as it can be seen in the graph with max_depth = 3. You can see that for max_depth = 10, the training curve barely moves out of 1.0 score, which for a prediction model sounds awesome at first but when we look of what could happen in real life, i.e the testing curve, we see that no matter how many training points, the score remains constant at ~0.7. Therefore, showing that is worth saying that not always more data will solve the problem, but a fine tunned model might get you on the right track. "
   ]
  },
  {
   "cell_type": "markdown",
   "metadata": {},
   "source": [
    "### Complexity Curves\n",
    "The following code cell produces a graph for a decision tree model that has been trained and validated on the training data using different maximum depths. The graph produces two complexity curves — one for training and one for validation. Similar to the **learning curves**, the shaded regions of both the complexity curves denote the uncertainty in those curves, and the model is scored on both the training and validation sets using the `performance_metric` function.  \n",
    "\n",
    "** Run the code cell below and use this graph to answer the following two questions Q5 and Q6. **"
   ]
  },
  {
   "cell_type": "code",
   "execution_count": 11,
   "metadata": {
    "collapsed": true
   },
   "outputs": [
    {
     "data": {
      "image/png": "iVBORw0KGgoAAAANSUhEUgAAAb0AAAFNCAYAAACUvLFdAAAABHNCSVQICAgIfAhkiAAAAAlwSFlz\nAAALEgAACxIB0t1+/AAAIABJREFUeJzs3Xec3FW9//HXZ2dmZ3vNpmxLQgIJKRA0IF0UFfSCXr16\nFfHajfUqgkhXiARBEBVEpIigRBF7uOZnAZUISAnSMSGBtE3fXqef3x/n+52ZnZ3dnd3sbJvP8/GY\nx7TvfOdM2XnvOd9TxBiDUkoplQvyJroASiml1HjR0FNKKZUzNPSUUkrlDA09pZRSOUNDTymlVM7Q\n0FNKKZUzNPSmCRH5fyLykQy26xaRw8ajTCr3iMgnReTvY7CfK0Tkh2NQpDEnIktE5DkR6RKRz010\nedTIaOiNIxHZLiJ9zh9Lu4g8JiKfEZFD/hyMMW83xtyTwXYlxpjXDvX5kjlB6p5izmt0r587ls81\nyPM3JT3nPhG5S0SKs/28k4mI1InIj53X3yki/xaRr4tI4USXbTSMMd8wxnwGQEQWisioBxQ7QRx1\nvh+dIvKMiLzjEIp3EfBnY0ypMeYHh7AfNQE09Mbf2caYUmAucC32D+hHE1ukQ+MEaYkxpgTYiX2N\n7m1rU7cXEW8WivF25/lfBxwHfDULz4GIeLKx3xE8/4D3TkRmAP8EvMAbjDFlwJlADaC1eusfzvej\nEvgJ8EsRKR/JDpLe+7nAS6MpRJa++2oENPQmiDGmwxizDng/8BERWQYgIn4RuUFEdorIfhH5YfJ/\n6yLyLhF51vmP9VUROdO5/e8i8knn8kIReVhEOkSkWUR+kfR4IyILncvlIvITETkoIjtE5HK31iki\nHxWRR5yytInINhF5+2heq4hcLSK/EJGfi0gX8CERyRORS53X0Cwi94lIZdJjThKRx50a8bMicmqG\n7+se4M/AiqR9FYjIjSKyy3lPfyAiBUn3X+LUkHaLyKec92iec9+9InKLiPxRRHqAU4ban4jMFJH1\nTrlbRWRD0vNcKiJ7nM9uk4icllS+m0Rkr1OGG0Uk37nvLWJbCC4VkX3AHWle9leAFuDDxpgdzvuw\nwxjzBWPMS85+ThaRjc534kkReUNSuR4RkdXO+90jIr8TkWrn8+oUkSdEpNHZ1uu8P//rfCeaReRa\nGaS1QmxT4IPOe7FJRP7Lud0vIi+IyGeT9vu4iFzqXL9aRO52drPBuc1tPTjFeX+PTHqeOSLSKyLV\nw3w/osBdQBEw33nsO8U2V7Y778WypP02iciFIvIC0ON8nqcAP3TKcpiIVDjfk4POZ3WJiIjz+E+K\nyAbn820FLndue9i5rV1EtorIG0TkE0nfqQ8lleGdkvib3ykiVyTdt9D5PD7slPWgiFycdL9XbFPx\nq87jN4pI7VCfzbRnjNHTOJ2A7cBb0ty+E/isc/k7wDqgCigFHgC+6dx3HNABvBX7D0sdsNi57+/A\nJ53LPwcuc7YpAE5Oei4DLHQu/wT4vfM884BXgE84930UCAOfAjzAZ4E9gIz0NQJXAyHgbKdMhcAF\nwKPOaygA7gR+6mzfgP0RP8PZ/kygGage5DmbgNOSHvsy8O2k+28Gfov9L78MWA98w7nvLOd1HQkU\nO++dAeY5998LtAEnOGXxD7O/64HvAz4gHzjVuX0psAOY7VyfDxzmXL4GeAxbM5sJPAF83bnvLUDE\n2SYfKEzz+jcCVwzxmcxwvjfnYGuD/+O8v5XO/Y8Am7G1wkpgk3P9Tc72PwPucLb1Ou/Pg862c4Gt\nwEed+z8J/N25XALsBj7sPO71zvMucu4/2nlvjwC+7nwfPEnfmbudywsBk/KabgfWJF2/APjtIK8/\nuUxe4HygE/u9PxbY75x7gI8DrwL5Sd+tp4F697133q+PJu3/Z8BvnP0d5rwfH0l67gj278eD/e5/\nEvu39T/Obdc6342bsN+vdzifV5Gzjzc735885z1rBs5Kfm+AH2L/jl4HBIHDnfsvAZ4DDncevwL7\n2zLkZzOdTxNegFw6MXjoPY4NKQF6gAVJ950AbHMu3wZ8Z5B9/51E6P3E+VGoT7Odcf5QPNggWpJ0\n36eTfhw+CmxNuq/Ieezskb5G7A/YX1Nu2wK8Mel6AxBw/jAvA36csv1DwLmDPGcT0A10OWX8M1Du\n3Jfn7Hdu0vanAFuS3qtvJN23mIGhd1fS/cPt7xrsD+CClDIuwv64ng54U+7bAbwt6fp/uO89NvQC\nOD/Cg7z+be5nP8j9HwMeS7ntKeBDzuVHgIuS7vse8EDS9XcDG53Lbui9Jen+LwJ/ci4nB8y5wN9S\nnvdHwGVJ1y8C/g204vwTkPSdudu5nC70TnJetzjXnwXeM8jrd4OnHRsYjwFvdu67A+cfjKTtXwVO\nSvpufTjl/njoYf+5iQBHJN3/eeDBpOd+LU15/p10/RjnPa1Ouq0DWDbI6/k+cH3ye0PS3yXwL+C9\nSa/lP9LsY9jPZrqetHlzcqjD/tHXYMPlaafZox34o3M72GB4NYP9fRUboE+KyEsi8vE028zA/sHu\nSLpth1MW1z73gjGm17lYksHzp7Mr5Xoj8EDS63zBuX0mtvZwjnufc//xQO0Q+z/L2GOlpwNLsP/N\nAszG/vf8XNK+/s95Hpx9JpcttZyptw23P/e/9oecJqULAYwxm7G1kdXAAafpcHZSGYb6HPYbY0JD\nvPYWYM4Q96fuP+1zJF3uS3M99XNPfk92kP6zmQuclPI5vj+lrHcDC7Ahm3EHK2PMo9iwOdlpjmwE\n/jDEQx4xxlQYY2YYY040xvw1qYwXpZRxDv3fm3TfCddM7D+QQ31+6R6f+v5GjTEtKbeVAIjICWIP\nXxwUkQ5saM5I3pkxZl/S1V4Sn9dgvxmZfDbTkobeBBORY7F/II9g/wvtA5Y6f6AVxphyYw/Ag/3j\nWTDcPo0x+4wxnzLG1GJrbz8Q5zhekmZsE8vcpNsasU0e2ZDa+64JeGvS66wwxhQ4f7y7sDW95PuK\njTHXD/sk9sdsLbaZEeyPSwjbbJP8nrqdGPZim65cDcOUfcj9GWM6jTFfNsbMA/4T+4P6Rue+e40x\nJ2GbNj3AN5197mHozyH1vUv1IPBu9zhSGqn7T/ccI5X8PjU6z5FqF/BQyudYYoz5QtI2twK/A84S\nkeMHea7BXv9PgA9hmwnvN8YER/YS4mW8KqWMRcaY+zN4foADQJRD+/yGcx/wa6DB+Z7dif2nNhOD\n/WZk8tlMSxp6E0REykTkLOwX+l5jzAvGmBi2ueU7IjLT2a5ORM5wHvYj4GMicrrYjiB1IrI4zb7f\nJyLuD3kb9o8ulryNsQf07wfWiEipiMzFHuu4NwsvN50fAtdIooPETBF5p3PfT7E/4m8VEY/Yjh5v\ncg/AZ+A7wDtEZJnzOu8EvisiNWLVi8jbnG3vBz4hIotEpAi4YrCdQvx9G3R/InK2iCxwAqgD+4MY\nE5Ejndfgx/5j00fiM/k58DURmSEiNU4ZRvI53ID9z//HSe9nvYh8T0SWYmuiS0Xk/U7Hhg9im8WG\nqhkN56tiO3A0Yps3f5Fmm3XO835QRHzO6TgRWeSU8WPAMmxT+peBn0r6oSYHACMDx5f+FHgv8EFs\nAI7GHcDnReRY57MscT7DjIa8GGPCwK+w3+USEZnvvJax/DsqBVqNMQHnH4MPjOCxdwJXu99JEVkh\nIlUM89lMZxp64+8BsT0Yd2GPXd2IPebiugh7IPxxEenE/he/CMAY86Sz7XewP6gPM/A/eLAH5Z8Q\nkW7sl/tLgzQd/S/2GOJr2Jrmz7A928bDjdim24ec9+MxbLkxxmzHHke6AjiI7ehzARl+X53a4loS\nAXYBtsnpSez79mfsgX2MMQ9gaxsbsMcZH3UeM1StYdD9YT+rv2KPMT4KfM8Y8w9sk+i3sDXsfdhO\nIJc5j7kK29ngReB5bEcWtxaYyettxh77BXjKeT//4jzXa8aYg8A7sd+tFuyP8lnGmLZMnyONB7DH\n0Z7Bduq5O025OrCdkT6ErVHvw74uv9jesd/GHi/rNcb8BPvab0izny7ncU84TXErndu3Y5vFg8aY\nx0bzIowxj2M7mdyK/QfxFae8I/E5bO1/O/Zv8h5GH8LpfBb4pvO5Xor9Ry1T12Nr0g9hO+/cDhQM\n9dmMYbknJfcgsFIKEJHl2I4AfqfmrZKIHWcWBuY7oTOhROQn2GC/cqLLoqYGrempnCci7xaRfKfZ\n51rg9xp4k5/T3Pkuxq91Qk0DGnpK2S7mzdhm5YBzXU1iIvJNbJPwNcaYnRNdHjV1aPOmUkqpnKE1\nPaWUUjlDQ08ppVTOmHIzfs+YMcPMmzdvoouhlFJqEnn66aebjTE1w2035UJv3rx5bNy4caKLoZRS\nahIRkdSp9tLS5k2llFI5Q0NPKaVUztDQU0oplTM09JRSSuUMDT2llFI5Q0NPKaVUztDQU0oplTOy\nFnoicpeIHBCRFwe5X0TkJhHZKiLPi8jrslUWpZRSCrJb07sbOHOI+9+OXXjzcGAVdhFHpZRSKmuy\nFnrGmA1A6xCbvAv4ibEeBypEZE62yqOUUkpN5DG9OmBX0vUm57YBRGSViGwUkY0HDx4cl8IppZTK\norVrYd48yMuz52vXjsvTTomOLMaY240xK40xK2tqhp1PVCml1GS2di2sWgU7doAx9nzVqnEJvokM\nvd1AQ9L1euc2pZRSh2qCalKDCgahpQW2b4cLL4Te3v739/bCZZdlvRgTucrCOuALInIf8Aagwxiz\ndwLLo5RS04Nbk3KDxa1JAZx77vCPN8aGVHc3dHVBZyd0dNjL7vXOzsT97sm93t2dOPX02FM4PPzz\n7tw5+tecoayFnoj8HDgNmCEiTcDXAR+AMeaHwHrgHcBWoBf4WLbKopRSOaOvDy66KH1N6nOfgyef\n7B9WyQHV25s4j0Qyez6PB4qK7KmwMHGqqYHGRigutteLi+02xcXwgx/YEE3V2Hjor38YWQs9Y8w5\nw9xvgM9n6/mVUirr1q61TXI7d9of7DVrMqtJDScataeODjh40J5aWqC5OXFqabGntrbEqb0dAoHB\n99vZCbfemgio5LCqq0vc5gZVSUnieupjSkuhvNze5vXa8PN6Eyefz96WlzfwtHgxfPaz/YO5qMi+\nf1k25RaRVUqpSWGoJsRzzoFYzAZXLGab9lpbE+GVHGQtLfa+1lYbXB0dNrw6OgavbYlAWZkNnYoK\nmDEDFixI3LZ2rQ24VLNmwR/+0D+kRhJWySeR0b93H/6wfY5s/MMwDLEVrqlj5cqVRldOV0qNK2Ns\ngEUi9jwYhGXLYG+abgiFhfD619vQ6uy0AdbVZcMvHa83EV6Vlfa8vNyeSkttkCUHnHu7Gz75+f1P\nfj/87ndw3nm2qdNVVAS33z4uwTIRRORpY8zK4bbTmp5SKrdFIokwC4dt0+GOHbBrF+zebYNt3z5b\nM2tuTtTQBguxvj57f0UF1NcPDDH3vLTU3ldcbB8nYsPV67XBlZ9va11+vz15PANrZ3mDdMBftcru\ndwJqUpOd1vSUUpPbaI+buUHmhlpHRyLM9uyxp717E2HmnoLBgfuqqICZM+1p1ix7/rOfpe+MMXs2\n/P739rIxidqYz5eoibnX3QBLDrNDaTbMYVrTU0pNfYMdN4tE4L3vtee9vdDUZENx9+6BYeYeP+vp\nGbj/oqJEmB1zTCLQqqrscbLqaht4+fkDH1tfD9/4Rv+OI4WFcPXVtukzOdDUpKE1PaXU5OHWysJh\ne75smQ2xVH4/zJ1rw6ytbeD9Pp/tMu+GmHuqqbFBVl1tg83vH1izysuztxcUJM7z8/t39vB67eOy\n1XtTjZjW9JRSk4t7zMwNtlDIhta2bfa0c2eiluae0jUfgm2CrK21tTM3zNyaWXW17WoPieNkLrd5\n0Q2zgoKBYTaSmtm552rITTEaekqpQ5d87MwNtEDANi9u22anntq7d/hQ8/ttmNXVwdFHw/r1tudj\nqtmz4brrEtdFMq+dqZymoadUrhuuiS4WG9jsGAgkeilu3247h7i9HN1g27cvfajV1dnTihX2vL7e\nhtjs2bZHYySSCKclS+Cb3xx43Owb34ClS0dXO1M5TUNPqVyWrqPIpz4FBw7AGWfYUNu50waYWzvb\nsydxPTXUCgoSoXbMMYlQq621x9fKyxO1Qkg0P+bnJ6avKipKjDl73evsoGs9bqbGiHZkUSpXhMO2\n2TEUsrW0nh449VQbYKm8XjvOa6hQSz7V18OcOXYQtVsrdMexubU2v7//tFc+X6Ib/2DjzZTKkHZk\nUSoXxWKJYAsGExMIb9uWGKO2a5etNe3alT7wwIbWf/zHwHArK0vU1MLh/h1F3KmrysttYPr9iWDz\n+fR4mpoUNPSUmorS1dr27oUtW2yguaHmnpKnoyoosN39Fy+2zZfd3QP3P2cOfPnLNuDcsDLGPl9R\nkR27VljYP9i8+nOiJj/9lio1WaWrtR08CJs321pbcrDt3Nm/KdLjgYYGu3joiSfac/c0c2aitvbA\nA3DNNf07ihQUwAUX2ONwBQWJJkifT5sh1ZSnoafUeBiqh2Rqra29HbZuTdTa3FBraoL9+/vvd/Zs\nW2s780yYPz8RbHV1iX2nHl/r6rK1tNJS22ll9mzbG7KpyQblNddoRxE1bWlHFqWyLbWHJNjQOe88\nG07Jx9rcSY6j0cS25eX9A23ePHu9ocHWvpKDzT3GlpeX6A1ZXNy/xqbj1dQ0lGlHFg09pcaKu25a\nKGTPe3r6d/0fSkHBwFCbO9eeSkqGDjZ3kU/3+JoGm8pB2ntTqWwwJn0nkm3b7LG2nTvtYO0dO+zp\n4MGh93f33TbkKisT03QlP5d7DC25R2TyDP0abEqNiIaeUqncYHPDLRCwPRzb2hLH2bZvt6edO224\nJfeOLC2Fww6Dk0+253fdlX5S5Nmz4cgjbXDl5dkaXWqw+Xzj9aqVygkaeip3JQdbMGiDze36n1xb\nc0+7d/efvLiuzjZDHnecDbfDDrPXy8sTzZFgQ/DaawdOpXXNNXbWEg02pcaNhp6aHgbrHelOfhwO\n22Dr6bGnrq7EGmxuwLmXk7v++/02yI46Cv7zPxPhNneubV4MhRLhZoyttYnY5sqSEnus7uijYeFC\nnUpLqUlAO7KoqS9d78iCAhsyJ544MNjc8+TjZzNmJGpqbrAddpgdpB2NJsLNDTawHUjcJkl3Vv/8\nfD3OptQE0N6bavpzB2wPttBoXl5ifBrYmllDQ/9Qc4OurCzR1KnhptSUo7031fQTidiQ6+xMLGnz\nxBPpAw9s4F1wQSLYGhtt8KWGmzG2SbOoyK6mreGm1LSloacmr1jM9ors6rIhd/Ag/Otf8NRTNuy2\nbbPbpdboXHPmwAc/mAi3nh57uxtuJSWJnpIabkrlBA09NXkYY3s49vRAa6s9bd4MTz5pg+7ZZ20t\nze+HY4+F978fTjoJNm2CK64YOH/kl76k4aaU6kdDT02sUMg2Wba22rFse/bYgHNrc+74tsWL4cMf\ntmPfXv96G16BgD3V1MDll8Ott9rH6/yRSqlBaOip8ZV6XK693dbgnnrK1ui2bLHbVVfDKafYmtyJ\nJ9qVAcJh29zZ22vPy8vtWLmSEnjDG2xvTaWUGoKGnsou97hcdzc0N9vzLVsSIfevf9naXn4+rFxp\nx8KdfDIccYR9fCBg729rs02Ws2fbsCsqssvnKKXUCGjoqbFlTGJ2k7Y2W5M7eNCG3MaN8PjjNvwA\nDj/cdjQ56SR7jK6wMDGfZUeH7aBSWZnoUen3T+xrU0pNeRp66tC5x+Xa2uyxuZ4eeP55G3JPPGE7\nmoANsJNOSpxmzbIDv/v6bFAGArYGV19vx80VFuqipUqpMaWhpzKXPNVXfT1ceCGceqoNre3bE02W\nGzfaAPP57NyS559vQ27JEhtiwaB9TGurHTdXVWVPRUW2mVMppbJEQ09lJnWqr1277MDv5cvtHJYH\nDtjbDzsM3vc+e1zu2GNts2QkYkPQndOypMTOXVlaamtzOoRAKTVONPRUZi65pP/clmB7Uz7zjF0k\n9eSTbW2utjZxXK+vzzZ9er22N2ZlpQ1Bb/a+djETI0+0SVQplZ6GnhpaKGSbM3ftGnyb733PBmAg\nkBhXV15uZ0RxVxrIUm3OGEMgEqA71E1rXyvtwXb8eX4qCyspLyin0FuI36sdYJRSloaeSs8Y2+vy\niSfgxhsH327WLBt0fr+9XFZma3NZHE4QioboDffS2ttKW6CNSMwu7VPoK6TCX0HURGnpa2F/z36M\nMeR78m0I+ssp8hVpCCqVwzT01EC9vXYs3V13wR132AB8xzvgr38dONXXlVfa9eIKCrJWnGgsSm+4\nl65gF819zfSF+xARvHleinxFePL6B6xXvJTkl8SvR2IRWvta2d+9H4B8Tz7l/nIqCysp9BXi9/gR\nPa6oVE7Q0FMJ0ahdNfxPf4Lrr7fzXr7xjXZey9pauP9+uO022Lcvq1N9uU2WPaEeWvpaaA+0A5An\neRT6CqksrBzR/rx5A0OwPdhOc28zBoM3z0tlQSUVhRW2JqghqNS0pevpKaujA557Dm6+GX79azuf\n5WWX2U4q3d02EOfOtbdnYexcOBqmJ9xDW18brX2t8SbLAm8BBd6CrIZQNBYlEAkQioYAG5LlBeVU\nFVZR6C3M+vMrpQ6drqenMhMK2ZXEf/ELuOkmO1vKhz4E551nx8y1ttqel3PnjumMKDETozfcS2eg\nk5a+FnrDtmeoz+NL22SZTZ48D8X5xRRTDNgQ7Ap20dLXAsbeX1FQQYW/guL8Yg1BpaawrIaeiJwJ\nfA/wAHcaY65Nub8RuAeocLa52BizPptlUg63o8qjj9qmzH/+E5YutSsVLF1qa34idkB5efkYPF3/\nJsuOYAfGmFE3WWZTagjGTIzuUHe/ECz3l1NZUElRfhGF3kINQaWmiKyFnoh4gFuAtwJNwFMiss4Y\n83LSZpcD9xtjbhWRJcB6YF62yqQcPT3wyiv2+Nzdd9uelpdeao/PBYN2vsz6ejvk4BB6YYajYXrD\nvbQF2mjpbbFNlgIFngLK/eVTJijyJI8iXxFFviLAhmBPuIfWvtb4/RUFFVQUJGqCOlZQqckpmzW9\n44CtxpjXAETkPuBdQHLoGaDMuVwO7MlieVQkYjuqrF8P3/oWvPYavO1t9tjdjBl2uZ+yMli0yE4J\nNkJuk2VXsIvm3uZ+TZaFvkK8edOjNT1dCPaGe/uFYJm/jKrCKop8RRT6CjUElZoksvkrVAckj2hu\nAt6Qss2VwJ9F5H+BYuAtWSxPbuvogKeftgPJ162zvTF/+EM47TTo6rK1v4UL7fG7EdTAApEA3cFu\n2gJttAXaJm2TZTa5r7fQVwgkmnK3tW2zGwiU+8upKLC9Q/M9+eR78qdMTVep6WSi//U+B7jbGPNt\nETkB+KmILDPGxJI3EpFVwCqAxsbGCSjmFBYM2smg166F73/f1uY+8Qn4whds02Vrqx1UXl+f0WTP\nMROjK9hFe6Cd1r5W2+NxCjZZZpOIDAjBYDTIjvYd9jrGvmfeAoq8RRT7iin0FZLvycfn8eHL8+n7\nqFSWZDP0dgMNSdfrnduSfQI4E8AY808RKQBmAAeSNzLG3A7cDnbIQrYKPK3EYrYn5sMP26bMjRvt\nigdXXmnXsevstAPKly2zEz9noDvUzWttr9Eb6iXfm0+Bt4Di/OLsvo4MPbD5AW58/Eb2du1lTukc\nzj/+fM5edPZEFwuwIegOvUjmDtPoCHYQjUUREYwxNjS9hRT5iuLHCPM9+fjyfPg8vgl6FUpND9kM\nvaeAw0VkPjbsPgB8MGWbncDpwN0iciRQABzMYplyQ0+PXcPullvg3nvtSgarV9vVD3p7bXNmY6Ot\n4WUw5i4cDdPU2cS+7n0U5xdTVVQ1Di8icw9sfoDL/3Y5gYidLWZP1x4u/9vlAJMm+NLxedKHmDGG\ncCxMV6iL1r5WYiaGIBicpmNvoe1d6ivG7/Xj8/jI9+RPm2OmSmVT1v5KjDEREfkC8CfscIS7jDEv\nichqYKMxZh1wAXCHiHwZ26nlo2aqjZafTNyOKr/9Ldxwg50k+qyz7AoJZWV2jsyqKjvmLoNpw4wx\ntPa1sq1tGwZDVWHVpGp2O9hzkOf2P8eVD18ZDzxXIBLgqoevoji/mEXVi6gtrZ1UZR+KiMSP+5GS\niW4gtgfaOdh7MF4zNMbOLFPoK6TYVxyfY9StIY7nuEelJjOdkWW6aGuzTZg33gh//KMNtq9/HU48\n0XZi8Xhg/ny7vE8GP/694V52tO+gPdBOmb9swpvVekI9vHTwJZ7b/xwv7H+B5/c/z97uvRk/vjS/\nlEUzFrG4ejGLZyxm0YxFHF51ePy423QQMzHC0TDhWJhwNIxgP2eDnXTbrSG6nWncGqL2LFXTgc7I\nkiuCQdi2DX78YzuwPBCAz30OPvMZe1yvrc2Ot6ury2gdu2gsyt7uvTR1NOH3+qkuqh6HF9FfJBZh\nS8sWnt//fDzktrZtJeb0b2osb+T1c17P8lnLOWrWUZz/p/PTBuDsktl894zvsqllE5ubN7OpeRO/\n2fSb+FAKQZhbMdeGYPUiFs+wgTinZM6UqRUmy5M8/F4/fgbOnBONRQnFQvT29tpAdGqHAH6Pn6J8\nOwTDIx7yJC8ehHmSh4jEA9S9PNhtQL/7092W7jFKjRcNvakqFrMzqjz0EFx3HTz/PBx3nO2oMm+e\nrd2VlNiVzYsz62zSEejgtbbXCMVCVBRWjEsNwBhDU1dTvPb23P7nePngy/HmyoqCCo6adRRnLDyD\n5bOWs3zmcqoK+x9TvOCEC/od0wPbM/IrJ3yFY+YcwzFzjonfHjMxdnfuZlPzJja32CB8+eDL/HHr\nH+PblPnLWFS9KB6E06FW6MnzDNrEGYlF6Av30RXswmAwxtgephAPRgRsp1OJX8bNK5O432CbW5Nv\nS348kmafTgC6YRsPSBHyyCMvz97myfPgEQ/ePC+ePHvuzfPGHzfcSSnQ5s2pqacHXnjBDkG47z57\nvO7ii+Fd70pMDj1vnh1wnkFHlWAkyI6OHbT0tlDqL7XHkrKkPdDO8/uf5/n9z9ugO/B8fFC33+Nn\nSc0Sjppyy0SKAAAgAElEQVR1FEfPOpqjZh1FfVl9RrWBQ+292R3q5pWWV+JBuLl5M5tbNsdrhXmS\nx9zyubaJdMZiFlfbMJyqtcLJxP0NShe4qZdjJkbMxDAmcdklpP8c3H2kC0yPePpdzzRE9TOffDJt\n3tTQm0oiEdi9G375S3vsbu9e+K//ggsvtLW5ri67CkJDQ0aTQ8dMjIM9B9nRsQOPeCj1ZzZ0IVPB\nSJB/N/+b5/Y/Fw+5HR12rJogLKxaGG+iPHrW0RxedfiEHztMFjMxmjqb4k2jbjPprs7EnAturdBt\nIh2sVjiZh1TkCjckU0PTDdt4iMrgAQpObRaJB6gHj511yGvHZvq9/vjwEu1RO3409Kab1la7ivn1\n18Pf/gYLFthhCK97nW3KzM+Hww7LeHJod8xdX7iPMn9ZRr37hvrhjpkY29q2xZson9//PJtbNseX\nCJpVPIujZh0VPy2buazfGndTiVsr3NS8iU3Nm+I1xNRaods02hHo4Gcv/IxgNBjfR4G3gKvfdLUG\n3xTlhmRy7TMSi8Q7ECXXLt1JyVN71HrzvFpjHEMaetNFIGA7qtx2m13FPBq1HVU+/nEIh21HlhFM\nDp065i51wPRgUsfCAfjyfJzSeAq9kV5ePPAi3aFuAIp9xbYGN/Mojp59NMtnLmdWyazRvf4pwq0V\nukHoNpM2dTYN+phyfznXveU66srqqCutmzQD/dXYSQ7DcCxsb0w6HurWDot99m/RnZFHp6kbOQ29\nqc7tqPL//p/tqLJpE5x8sh2GMGeObcosK7PH7jKYHDp1zF2Zv2xEf1RvuudN7OlKPx/40pql/Wpx\nh1Ueph0HHN2hbl5/++sz2raioIK60jrqy+qpK62jrqyO2tLa+OWpWjNW6bljLiOxCJFYhKiJxjsL\nGTEUeAoo9BXGJzd3m0x13GV6OmRhKlq71q54sHMnzJxpx9pt3Ggngf7Od+DMM21Hld5eO5VYVVVG\nY+76wn1sb99OR7CD0vzSUR03GyzwBOE37//NiPeXK0ryS6gtrU37/s0qnsVNb7+J3Z272d3lnDp3\ns6V1C3/f/vd+zaEAFf6KeK3QPa8tq40HpYbi1NJvEoI0knvVRmKRfsNMfB4fRd6ieCi6+xnv44hu\nB6PkjkaptyU3Bae7z12kebxo6E0Wa9fCqlU20AD277enE0+0K5r7fHadu5kzbUcV3/DBlTrmLrWr\nfyY6Ah2s3rB60PvnlM4Z8T5zzfnHn592SMWFJ17IitkrWDF7xYDHGGNo6WsZEIi7u3bzaturbNi5\nYcAsNOX+8kQopgRiXWndoB2VtJPN5OT2Jk0nGosSjoXp7etlX/e++FASd5WTIl9RfDICv9dPnuSl\nDahoLNqvg497W9RE7TaxGDFi/c6jJtqv04877GTQIStJw1kgUZN1b/N7/P2GFWWbht5kcdllicBL\ntm2b7bXp9doVzTOcHHosxtw9svMRLnnoElr7WjljwRk8vOPhAT/c5x9//oj3m2vcABlJsIgIM4pm\nMKNoBkfPPnrA/W5zdWog7u7czbb2bTyy8xH6In39HlPmL+tfS3RqoPe9eF+8VjlV5i3Nde64y3QT\nEbjHETuCHbT0tcTnbo2Hj5h4OA41kUDy/Qh48OD1euNjKsfimGM0Fh3wz1u26TG9ySIvD9J9FiJ2\nmEKGk0OPxZi73nAv33r0W/z8xZ+zsGoh173lOpbNXKY1ginEGENboK1fGLrne7r20NTVFO9tmk6+\nJ5+TG0+m3F9Omb+s36ncX05ZQVn8vnJ/OX7v8ENkRku/d9OXG3pjUdPTjixTzdy59lheqoaG9Len\nGKsxd8/sfYaLHryInR07+diKj3He8edl9QdNTQxjDO2Bdk740QnxZqdUi2cspjPYSUegg55wz5D7\n83v8NgALEkE4WEgm319eUD5kD+J0vYZ1uMf0MRGhp82bk8WZZ8Ltt/e/ragIvvnNYR86mjF3qULR\nEN9/8vvc8a87mFMyh5+8+yccV3fciPczEdzjG27X8DzJw5Pnifdy0wHCA4kIlYWVzCmdk7aTTW1p\nLb//wO/j1yOxCJ3BzvipI9Bhz4P9zzsD9vK+7n280vIKHcGO+FCWweR78gcNyd9u+m3aFTRu+OcN\nnHXEWdqtX42Y/hpMBi0tsG6dbcIEOHDArne3Zg2ce+6gDwtHw+zu3M3e7r0U+YqoLKwc1dNvbt7M\nVx/8KpuaN/HeJe/lkpMvmXQ9Ad3u3e54J7eFQsTOjFHkLaKyoJIiXxGRWIRAJEBfuI9gNEhXqMse\nPDcmPnA43fyNuWiwTjapx2q9eV6qCqtG1RkqEovQFezqH47u5cDA2w70HmBL6xY6g52DBua+7n0s\nu3UZlQWVVBZUUlFYQVVhlb1eWBm/PX7ZOR/r+VO16XXq0dCbaMbY9e727YN77rGdVY4+esgVEcZq\nnbtoLMpdz97F9x7/HmX+Mm79j1t58/w3H8qrOWThqFNji4WJxqJAYkLiQm8hFQUV8cVT3W7aw9Vs\njTHxfbq1wUAkQF+kj0A4QHewmxix+LbuQf/k+Rina21xNJ1sRsqb57WhM4p/yk67+7S0K2iU+cv4\nwNIP0BZos6e+Nl5peYW2vjbaA+2DNtkWeAvSBmNFQcWAgHQvD3ZcfKouXpzr9JjeRHvsMTj1VDtZ\n9IUXwhFH2PF3gxiLMXcAOzt2ctGDF/Gvvf/ibYe9javedNWo/osfjWgsGg8hd5kbsIFT4C2gyFdE\nsa+YQl9hPNiyPWVTcpkisQjBSLBfbTEQDSTmY3S6WmttMftGc0wvGovSGezsF4jJ5+197f1vD7TR\nGewctAzFvuK0gfjrf/+arlDXgO1rS2v520f+dugvPgdoR5YMTKvQC4fhhBNgyxa72vmcObB4cdoB\n59FYlH3d+9jVsQu/1z/qKauMMdz/0v1c++i1eMTDFW+8gnce8c4xD5R0zZHJK3y7q3sX5xf3G1g7\nWYMjtbboDhx2gzEQCRA10fhrTFdb9IhHj0GNwng0IYajYTqCHQMCMl1ouudD9X6dWz43PuRkZvHM\n+OWa4hpqimqYUTSDqsKqaduCkIkHNj/At//5bfZ176OxvJE1p6/h3OWDH84ZjnZkmQpuuQWefhqu\nusp2Wpk7N23gjdU6d/u793P53y5nw44NnNhwIte8+ZpDHlyePK9g1EQTx85EKPIWUe4vj8/x6a7U\nPRX/0EXETgGVXLNOOTyUWlsMRUK2CTUSIBAJ0B3tThyLdGuNTjAmL3EzWYN/opy96OysNxf6PL54\nMGVqsKbXYl8xy2Yu42DvQV5peYXHdj2WtkaYJ3lUFVYlArHICcTipMtOUBb7ikf8D9NkPt6YWoPf\n0bGDVQ+sAjik4MuE1vQmSlMTHHWUHZJw221QW2s7ryQJRoLs6tzFwZ6Dh7zO3fot67ny71cSjAb5\n6olf5Zzl54zqxzUYCfb7D9fvsbXO+PyATrD58nxaq0nh1haT51p0jy8GIgGCkSDBaDC+MkW82RdD\nHnnxUHTXhdP3d2KNpOk1EAnQ3NvMwZ6D9rz3YPx6/LJz7n7+yQq8BYkQHCQYa4pqqCqswufxjftQ\nj+SJtaMmGr+c/H1PPn3uD5+jua95wH7mls9l+3nbR1UGrelNZrEYfOUrdkmg226znVZqaxN3p4y5\nqy6qHvVTtQfaWf3wav6w5Q8cPetornvLdcyvnD+qfXUFbS/IRTMWUeAtIN+Tr7WSEUhbW0zD/QGJ\nxCLx2mMoGrLBGLXHGnuDvQMWUDWYAauLa5Nq9oykE1CBt4D6snrqy+qH3GfMxOgIdMRD8GDvQZp7\nmmnubeZA7wGae5t5rf01ntz9JO3B9rT7qCyopCvUNSA8A5EAX/v71/hn0z8HDSO3lSK11cK9Lfl6\n8in5u3godnYMPyb5UGnoTYS//AXuvx8+9CFb05s/P95b0xjDltYttPe1j3rMnWvDjg1c+tCltAXa\nOO/48/jU6z41qqbFmInRHminsqCSwyoPm1QLvU5HeZI35ETELveHya01JnfAcWuNyU2qQL/jqsk1\nR521f3TGuuk1T/LiPV0Prz58yG1D0RDNvc2JgEyqRd734n1pH9Mb7uWRnY/gzfPaNf08iePN7vV8\nTz5enxeveOP3u9u73xl3PUD3e5R8Pd0p9bGXPHQJLX0tA8rXWN6YptRjS0NvvPX0wPnn25UTPvUp\nO5dmUm/NAz0HaOtto6po9D0pe0I9fOuxb3Hfi/dxeNXh3H727SypWTKqfYWiIbqD3TSWNzKndI7W\nGiaRoeZfTJZaa3THMSbXHEOxEG4vfxGJN6km/7BNxWOx01m+J5/a0lpqS2sH3Ldhx4ZBJx2YDD1L\nLzn5kgHNr0W+Itacvibrz63f4vFkjF35/OWX4YYb7EoJ8+bFO6/0hHrY1raN8oLMVj9P5197/8VF\nD17Ero5dfPyYj3PeG0Y/jVhX0B58XzJzCWX+slGXSU2sTMYZph5vDMfC/WqNgUiArlhXogOO85jk\n5lQ3HNXEy3TSgYni1o7HsvdmpjT0xtPmzfDtb8Pxx8Mpp9gZWIrt0INoLMrWtq0U+gpHPY3YzU/c\nzJ3P3EltaS0/ffdPObbu2FEV0z2uUOYvY0HVgkPqQKOmhkyONyYHY/J4xvhYRqfGmDr7TfJYRm1K\nHR/jMenAoTp70dm84/B3jNk4vUxp6I2XSMR2XgkE7DJCIv06r+zq2EUwEhzVYoqbmjfx1b98lc0t\nm/nvJf/NRSdfNOppxELREF3BLhrKG6gtrdWOKiouORgLU8drOFJXA4/EIgTCdvabeDBGQ/1rjOgx\nxmwYj6EeU5GG3nj51a/gD3+Az3wGamps5xVnIdi2vjb2du8d8Ywo0ViUHz3zI2564ibKC8q57azb\nOG3eaaMuYneom2gsypKaJYfUxKpyV9rVwFPyMbl3avK0cO6pN9xrVwp3aoouDUY1FjT0xkNbG1x6\nKdTVwUc+Yps0q+0whFA0xKutr1LqLx1RJ5Ed7Tu46MGLeGbfM5yx4AyuPO3KUU8j5i4zU5pfyoKa\nBbqUkMqqTHqnJo/7GqrzTWqNUcczquFo6GVbLAarV9sV0G+91XZmcTqvGGPY1rYt/t9xJowx3PfS\nfVz3yHX4PD5ueOuhLbESjobpDHZSX1ZPXVmdNmeqSSGTYEztfJM8njEQCRCI2vGMqZNP65CN3Kah\nl21PPw0//CGcfjqsXGlreCX2eNuBngO09WU+PGF/934u++tl/GPnPzip4SSuOf0aZpfMHnXRekI9\nhGNhFs9YPOpliZSaKJkO9k8equEGo1tbDEaC9EX6CMfCA3qmuusyaq1xetHQy6ZAwK6cAHDxxbaW\nV1cHjHx4wh9e+QNXPXwVwWiQr73xa3xw2QdH/QdojKE92E6xr5gja44ccuVqpaa6TMYzph5n7DcL\nTiQYrzWmm3nErTXmSR55kocgicsakpOOhl62GGPXx3v4YbjgAjsIfe5cyM8f0fCEtr42Vm9Yzfot\n61kxawXXvfU65lXMG3WxIrEIHYEO5pTMoaG8QZt1lCLzWXAGTNsVDcdrjdGYnUs1QoRo1NYuDaZf\nDTKVsetU9QtJ97IGaHZo6GXLnj32WN6CBXDOOban5gw7g/tgwxNSZ0V/+8K3s27zOtoD7Zx//Pl8\n4nWfOKRZMXrDvYSiIRZVLzqkGV+UylUjXVDYGEPMxIiaaPxyulNqmLrTyrk1zkgsQozYsAFqjMEj\nnnhIuqGZHJipiwwkH/NMvm+whXiH23ao/ad7nN8zvh3nNPSyIRyGr3/dBt8999jrRxwBeXmDDk9I\ntwrzj575EbOLZ/PL9/2SI2uOHHVxjDF0BDso8BawfOZyCn3px1gppcaWiNiOMhx6i8pQoTlcgA4o\nV1J4JndeE6RfQKZ2bEu+nunjhrxPZNynt9PQy4YNG+AnP4F3vhOWLoXKSigtJRQNsbV1a9rhCTc+\nfmO/KYNcInJIgec2Z84qmcXc8rnanKnUFDWWAZrLNPTGWlcXXHIJFBTYY3nRKNTXx4cnuMcOUu3t\nGrgYJcC+7n2jLoq7ovcR1Ucc0vJESik1XeigrLEUi9mxeE89BV/+MuTnxzuvuMMTSv2laR862Arm\no13ZvL2vHQSWz1qugaeUUg4NvbG0datdRWHpUnj3u6GwEGpqMhqe8OnXf3rAbaOZFT0ai9LS20JV\nURVLa5ZS5Csa8ctQSqnpSps3x0ogAF/7GrS02NpeXx8sXUoUk9HwhM0tmxGEGUUzaO5tHtWs6IFI\ngN5QLwuqFlBTVKNdnJVSKoWG3lgwBv74R/jlL+EDH7CTSZeXQ1kZu9q2D7t6wssHX+a+F+/jQ0d9\niMtPvXxURegIdODN87J81nKK84tH+0qUUmpa09AbCy0tcPnlUFEBX/yi7bzS0JDR6gkxE2P1w6up\nLKjki2/44oifOhqL0h5oZ0bRDOZXztfVrZVSaghZPaYnImeKyGYR2SoiFw+yzX+LyMsi8pKI/Cyb\n5cmKcBi+9z146SW46CK7Tl5DAyGvDDo8Idm6zet4Zt8zfOXEr4x4dfJgJEhHsIPDKg9jYdVCDTyl\nlBpG1n4lRcQD3AK8FWgCnhKRdcaYl5O2ORy4BDjJGNMmIjOzVZ6sef55uOkmO5n0mWeCMZiZM9nW\ntnXQ4QmurmAX1z92PStmreA/F//niJ62K9iFICybuWzUC8YqpVSuyWbV4DhgqzHmNQARuQ94F/By\n0jafAm4xxrQBGGMOZLE8Y6+rC668Enp77XlPDyxdyoG+5oxWT7j5yZtp6W3htrNuy3hJn5iJ0R5o\np7KwksMqDht2hnmllFIJ2WzerAN2JV1vcm5LdgRwhIg8KiKPi8iZWSzP2IrF4Ne/hv/7P/joR2HO\nHKiupqfAk9HqCa+0vMK9z9/L+5e9n2Uzl2X0lKFoiLa+NuaWz+WIqiM08JRSaoQm+iCQFzgcOA2o\nBzaIyHJjTHvyRiKyClgF0NjYON5lTG/3brj6aht2n/40hMNE6+syGp5gjOEbD3+D0vxSznvDeRk9\nXVewC4BlM5cNOsBdKaXU0LJZ09sNNCRdr3duS9YErDPGhI0x24BXsCHYjzHmdmPMSmPMypqamqwV\nOGOBANx4I7z6Klx2ma31NTSwK3iQYCQ47ITO67es58k9T3L+CecPu3hrzMRo62ujOL+Y5bOWa+Ap\npdQhyGboPQUcLiLzRSQf+ACwLmWb32FreYjIDGxz52tZLNOhMwaefBJuvx3e+EY49VTw+Wgry2dv\n917K/UM3a3aHurn20WtZWrOU9y5575Dbus2Z9WX1LKpeNOxaX0oppYaWteZNY0xERL4A/AnwAHcZ\nY14SkdXARmPMOue+t4nIy0AUuNAY05KtMo2Jtja46io7Fu+KK6C7m9CihWzt2Dbs8ASAWzfeyoGe\nA9z89puHbALtDnUTjUVZOnPpiIcyKKWUSi+rx/SMMeuB9Sm3fS3psgHOd06TXzgMa9fCX/8KX/oS\nVFZiiorYFmsddngCwKttr3LPs/fwX0f+Fytmrxh0u/ZAOyW+EhbULMDvHd8FFpVSajrTCadH4tVX\n7YTS8+bBxz8O4TAHagpp7Wsd9libMYY1G9ZQ4C3gghMuGHS7UDSEV7wsmrFIA08ppcbYRPfenDq6\nuuDb34Zdu+Cuu6Cvj55ZVWzr3TvkvJquv7z2Fx7d9SiXn3L5kEv99IR6WFi1UBd7VUqpLNCaXiZi\nMXj4Ybsa+jveAcceS9Sbx9b87mGHJ4BdzPWbj3yTRdWLOGf5OYNuF4qGyPfkD9ujUyml1OhoTS8T\n+/bBmjXg88HFF0N3N7tmFxI0QSp8w9fybnv6NvZ07WHte9YOOT9md6ibw6sOz3h2FqWUUiOjv67D\nCQTgnnvg8cdt55XiYtqK8tib1zPs8ASAHe07uPNfd3L2EWezsnbloNuFoiEKvYVay1NKqSzS0BuK\nMXb1hO9+FxYvhnPOIRToYWtJkNKCsowWab3mH9fg8/j46klfHXK77mA3DWUNWstTSqks0ubNobS1\n2ZlXDhyAm27C9PSwrSxKXkFpRgPF/7btb/x9x9+56KSLmFk8+AISoWiIwnyt5SmlVLZptWIw4TD8\n+c/wi1/A+95nV0+IdNBa4sloKrBgJMiaf6xhQeUC/ueo/xly2+5QN3PL52ZUc1RKKTV6GYeeiJws\nIh9zLteIyPzsFWsS2LkTrr0WSkvhggvoaT/ItgpDRfGMjB5+5zN3sqtzF1ecesWQqyEEI0GKfEUZ\nHR9USil1aDIKPRH5OnARdsFXAB9wb7YKNeG6uuDuu+G55+DCC4n6PGz1dFBYNSuj8XNNnU3ctvE2\nzlx4Jic0nDDktj3hHq3lKaXUOMm0pvdu4J1AD4AxZg8wPaf7j8XgmWfgllvgmGPg3e9mV/sugjOr\nKMwvymgX1z5yLXmSx8UnXTzkdoFIgGJfsc6tqZRS4yTT0As582QaABEpzl6RJtj+/ba3ZmcnXHkl\nbS272VsmlJfPyujh/9jxD/7y2l/47MrPMqd0zpDb9oZ6aSxv1FqeUkqNk0xD734RuQ2oEJFPAQ8C\nd2SvWBMkEID16+F3v4P/+R9C8xvZGtxLae28jIIpFA1x9T+uZl75PD52zMeG3LYv3EeJv0RreUop\nNY4yGrJgjLlBRN4KdAKLgK8ZY/6S1ZKNN2Ng61Y7oXRNDeYLX2Db/k3k1daS78+sWfPuZ+9me/t2\n7jj7jmGHNPRF+lhSs0RreUopNY6GDT0R8QAPGmPeBEyvoEvW2go//jFs3gzf/S4Hwu205seonlmf\n0cP3de/j1o23cvr80zl17qlDbtsX7qMsv0xreUopNc6Gbd40xkSBmIhM3z714TA89ZRdDf3kk+k5\n/RS2tb1GxdxFkGFN7LpHryMai3LJKZcMu21vuJeG8oZDLbVSSqkRynRGlm7gBRH5C04PTgBjzBez\nUqrx1tRkO68Eg0Qvu5St+/5N4ax6PCWZdVB9vOlx1m9Zz/8e9780lA0dZr3hXioLKzMa4K6UUmps\nZRp6v3FO009XF/zf/8Gf/gSf/zy7qj0E2yNU1DZm9PBwNMzVG66mvqyeT77uk8NuHwgHWFi18FBL\nrZRSahQy7chyj4jkA0c4N202xoSzV6xxEovBpk12fs2GBto+8n72tmymasEyu4xQBta+sJYtrVv4\nwX/8gAJvwZDb9oR6qCisoCS/ZCxKr5RSaoQyCj0ROQ24B9gOCNAgIh8xxmzIXtHGwb59tvPK9u2E\nf/gDtnbvpLS0GqnMbOLngz0HuemJmzh17qm8ed6bh90+GA1yRPURw26nlFIqOzJt3vw28DZjzGYA\nETkC+Dnw+mwVLOsCAXjiCbjrLszb3sZrx8wjr20/+QvmZdx55YbHbiAUDXHZKZcNO/SgO9RNVUEV\nxfnTd1y/UkpNdpkOTve5gQdgjHkFO//m1GQMbN9uO694PDSf/xlaO/ZSOrsBijMLpaf3Ps3vNv+O\nTxzzCeZVzBt2+1AkRF1Z3aGVWyml1CHJNPQ2isidInKac7oD2JjNgmXN2rUwbx4ceSRs2ED4tFN5\ntTBAhacYZs3OaBfRWJTVD69mdslsPr3y08Nu3x3qprq4Wmt5Sik1wTINvc8CLwNfdE4vO7dNLWvX\nwqpVdtkgh+ehvzFn/QY89Y0Zd16578X72NS8iYtPvpgi39CztRhjbC2vVGt5Sik10cTOIz3MRnaC\n6YAzUN2dpcVvjOnNcvkGWLlypdm4cZSVzHnzYMeOATeHZ9Ww7YUNkDf8/wCtfa2cce8ZLK1Zyo/f\n9eOMjuWV+ct0mIJSSmWRiDxtjFk53HaZ1vQeAgqTrhdiJ52eWpJqeMm8B5ozCjyAG/95I73hXq44\n9YphA88YQyiqtTyllJosMg29AmNMt3vFuZzZLMyTSWP6AeeRuqGXAHI9v/95fvXyr/jw0R9mQdWC\nYbfvDnVTU1RDoa9w2G2VUkplX6ah1yMir3OviMhKoC87RcqiNWugqH9WxwoLaL78/GEfGjMxrnr4\nKmYUzeDzx35+2O2NMYSjYe2xqZRSk0im4/TOA34pInuc63OA92enSFl07rkAmEsugaZdRObMovlr\nF9L13rOHfeivXv4VLx54kevfen1GM6p0hbqYVTJr2FlalFJKjZ8hQ09EjgV2GWOeEpHFwKeB9wB/\nBLaNQ/nG3rnnEnrPu3j22T9SuXBZRsfy2gPtfPuf32Zl7UrOPmL4gDTGEI1Fh105XSml1Pga7hf/\nNiDkXD4BuBS4BWgDbs9iubLL54OGhow7r3zvie/RGezMqPMKQGewk9kls7WWp5RSk8xwzZseY0yr\nc/n9wO3GmF8DvxaRZ7NbtMnh5YMvc9+L93Hu8nNZPGPxsNsbY4iZGLNLMhvorpRSavwMV9XxiIgb\njKcDf026L9PjgVNWzMRY/fBqKgoq+OIbMls6sCvYxeyS2fi9/iyXTiml1EgNF1w/Bx4WkWZsb81/\nAIjIQqAjy2WbcOs2r+OZfc9wzZuvocxfNuz2MRMjavRYnlJKTVZDhp4xZo2IPITtrflnk5i+JQ/4\n32wXbiJ1Bbu4/rHrOXrW0bz7yHdn/Jja0lryPflZLp1SSqnRGLaJ0hjzeJrbXslOcSaPm5+8mZbe\nFm476zbyZPgOLzETw2CYVTJrHEqnlFJqNDIdnJ5TNjdv5t7n7+W/l/43y2Yuy+gxnYFOreUppdQk\np6GXwhjD1RuupjS/lC8f/+WMHhONRUFgVrHW8pRSajLT0Euxfst6ntzzJF8+4ctUFlZm9JjOYCf1\npfX4PFN3XV2llMoFGnpJukPdXPvotSytWcr7lrwvo8dEY1HyJI+a4posl04ppdShmvZj7Ubi1o23\ncqDnADe//WY8eZ6MHtMV6tJanlJKTRFZremJyJkisllEtorIxUNs918iYpzVGybEq22vcs+z9/Ce\nI9/DitkrMnpMNBZFEGaWzMxy6ZRSSo2FrIWes7r6LcDbgSXAOSKyJM12pcCXgCeyVZbhGGNYs2EN\nBX8qSg4AABklSURBVN4CvnLCVzJ+XGeok/qyerx5WmFWSqmpIJs1veOArcaY14wxIeA+4F1ptvsG\ncB0QyGJZhvSX1/7Co7se5Utv+BLVRdUZPSYSi+DBo8fylFJqCslm6NUBu5KuNzm3xTkL0zYYY/6Q\nxXIMqS/cxzcf+SaLqhdxzvJzMn5cd7CbhvIGreUppdQUMmG/2CKSB9wIfDSDbVcBqwAaGxvHtBy3\nPX0be7r2sPY9azMOsEgsgifPw4yiGWNaFqWUUtmVzZrebqAh6Xq9c5urFFgG/F1EtgPHA+vSdWYx\nxtxujFlpjFlZUzN2zYk72ndw57/u5OwjzmZlbeZ9aLqCXTSUN2Tcw1MppdTkkM3Qewo4XETmi0g+\n8AFgnXunMabDGDPDGDPPGDMPeBx4pzFmYxbL1M81/7gGn8fHhSdemPFjwtEwvjwf1YWZHftTSik1\neWStedMYExGRLwB/AjzAXcaYl0RkNbDRGLNu6D1kx9oX1nLpg5eys3MnAGcdftaIJonuDnWzoHKB\n1vKUUmoKyuoxPWPMemB9ym1fG2Tb07JZFrCBt+qBVfSGe+O3PbjtQR7Y/ABnLzp72MeHoiF8eb6M\npydTSik1ueTUNGSXPXRZv8ADCEQC3Pj4jRk9vifUQ2N5o9bylFJqisqp0NvZsTPt7Xu79g772FA0\nRL4nn6qiqrEullJKqXGSU6HXWJ5+uMOc0jnDPrY71E1jeWNGC8oqpZSanHLqF3zN6Wso8hX1u63A\nW8D5x58/5ONC0RAFngI9lqeUUlNcToXeucvP5fazb6exrBFBqC2t5eo3XT1sJ5buoNbylFJqOsi5\nObTOXX4u7z3yvTy779mMam6haIjC/EKt5Sml1DSgVZdhdIe6mVs+FxGZ6KIopZQ6RBp6QwhGghT5\niij3l090UZRSSo0BDb0h9IR7tJanlFLTiIbeIAKRAMW+Ysr8ZRNdFKWUUmNEQ28QvaFeGssbtZan\nlFLTiIZeGn3hPkr8JVrLU0qpaUZDL42+SJ/W8pRSahrS0EvRF+6jLL+M0vzSiS6KUkqpMaahl6I3\n3EtDeYPW8pRSahrS0EvSG+6loqCCUr/W8pRSajrS0EsSCAdoKG+Y6GIopZTKEg09R0+oh4rCCkry\nSya6KEoppbJEQ88RjAapL6uf6GIopZTKIg097KTSVQVVWstTSqlpTkMPO7F0XVndRBdDKaVUluV8\n6HWHuqkuqqY4v3iii6KUUirLcjr0jDGEIiE9lqeUUjkip0OvJ9zDjOIZFPmKJrooSimlxkFOh14o\nGqKuVI/lKaVUrsjZ0AvHwtQU1VDoK5zooiillBonORt6Rb4iaktrJ7oYSimlxlFOhp7P42NexTyt\n5SmlVI7JydDLkzyqCqsmuhhKKaXGWU6GnlJKqdykoaeUUipnaOgppZTKGRp6SimlcoaGnlJKqZyh\noaeUUipnaOgppZTKGRp6SimlcoaGnlJKqZyhoaeUUipnaOgppZTKGVkNPRE5U0Q2i8hWEbk4zf3n\ni8jLIvK8iDwkInOzWR6llFK5LWuhJyIe4Bbg7cAS4BwRWZKy2TPASmPMUcCvgG9lqzxKKaVUNmt6\nxwFbjTGvGWNCwH3Au5I3MMb8zRjT61x9HKjPYnmUUkrluGyGXh2wK+l6k3PbYD4B/L8slkcppVSO\n8050AQBE5EPASuCNg9y/ClgF0NjYOI4lU0opNZ1ks6a3G2hIul7v3NaPiLwFuAx4pzEmmG5Hxpjb\njTErjTEra2pqslJYpZRS0182Q+8p4HARmS8i+cAHgHXJG4jIMcBt2MA7kMWyKKWUUtkLPWNMBPgC\n8Cfg38D9xpiXRGS1iLzT2ex6oAT4pYg8KyLrBtmdUkopdciyekzPGLMeWJ9y29eSLr8lm8+vlFJK\nJdMZWZRSSuUMDT2llFI5Q0NPKaVUztDQU0oplTM09JRSSuUMDT2llFI5Q0NPKaVUztDQU0oplTM0\n9JRSSuUMDT2llFI5Q0NPKaVUztDQU0oplTM09JRSSuUMDT2llFI5Q0NPKaVUztDQU0oplTM09JRS\nSuUMDT2llFI5Q0NPKaVUzvBOdAGUUipbwuEwTU1NBAKBiS6KGiMFBQXU19fj8/lG9XgNPaXUtNXU\n1ERpaSnz5s1DRCa6OOoQGWNoaWmhqamJ+fPnj2of2ryplJq2AoEA1dXVGnjThIhQXV19SDV3DT2l\n1LSmgTe9HOrnqaGnlFJZ0tLSwooVK1ixYgWzZ8+mrq4ufj0UCmW0j4997GNs3rx5yG1uueUW1q5d\nOxZF5ve//z0rVqzg6KOPZsmSJdx5551jst/JQo/pKaWUa+1auOwy2LkTGhthzRo499xR7666uppn\nn30WgCuvvJKSkhK+8pWv9NvGGIMxhry89HWQH//4x8M+z+c///lRlzFZMBjks5/9LBs3bqS2tpZg\nMMiOHTsOaZ/Dvb7xNjlKoZRSE23tWli1CnbsAGPs+apV9vYxtnXrVpYsWcK5557L0qVL2bt3L6tW\nrWLlypUsXbqU1atXx7c9+eSTefbZZ4lEIvz/9u49uqr6SuD4d0OQJAQIqSJVxiSrRUjI85JGHitC\njDx0RiMYDAFGIwiUKhQ6ril1ubR1FpqqC4PaxcPyEBphFEqhraA2gpSh8iwEJDCxGlvkDWMQgtSE\nPX/ck2tCnt5wubnc/VkrK+ece87v7HOykp3fefx2ZGQks2bNIjk5mQEDBnDixAkAnnzySQoLCz3r\nz5o1i/T0dHr37s3WrVsBOH/+PPfffz/x8fHk5OSQlpbmScg1KioqUFWioqIA6NixI7feeisAx44d\nIzs7m6SkJJKTk9m2bRsAzz//PAkJCSQkJPDKK680enzr169nwIABuFwucnNzOX/+/BU/ry1hPT1j\nTHCYMQMu+yNfx4cfwsWLdZdVVsLEifDaaw1vk5ICTrL5tg4ePMiyZctIS0sDoKCggKioKKqqqsjM\nzCQnJ4f4+Pg621RUVDB48GAKCgr4yU9+wuLFi5k1a1a9tlWV7du3s27dOp555hk2bNjAK6+8Qo8e\nPVi9ejV79+7F5XLV26579+4MHz6c6OhosrKyuOeee8jNzaVdu3Y8+uijDB06lMcee4yqqioqKyvZ\ntm0bRUVF7Nixg6qqKtLT0xkyZAhhYWF1ju/EiRMUFBRQXFxMeHg4s2fPZu7cuTzxxBNenbvWsJ6e\nMcZA/YTX3PJW+t73vudJeAArVqzA5XLhcrkoLS3lwIED9bYJCwvjrrvuAqBfv36Ul5c32PaoUaPq\nrbNlyxbGjBkDQHJyMn379m1w26VLl/Lee++RlpZGQUEBkydPBmDTpk1MmTIFgJCQELp06cKWLVu4\n//77CQsLo3Pnztx33338+c9/rnd8W7du5cCBAwwcOJCUlBSKiooajd3XrKdnjAkOzfXIYmLclzQv\nFx0NmzZd8XA6derkmS4rK2Pu3Lls376dyMhIxo8f3+Bj+dddd51nun379lRVVTXYdseOHZtdpylJ\nSUkkJSUxduxY4uLiPA+zfJsnJ2sfn6oyYsQIli9f/q1judKsp2eMMeB+aCU8vO6y8HD3ch87e/Ys\nnTt3pkuXLhw9epR33nnniu9j0KBBvPnmmwDs27evwZ7k2bNn2bx5s2d+z549REdHA5CZmcn8+fMB\nqK6u5uzZs2RkZLBmzRouXLjAuXPnWLt2LRkZGfXaHThwIB988AGffPIJ4L6/WFZWdsWPsSWsp2eM\nMfDNU5pX8OnNlnK5XMTHx9OnTx+io6MZNGjQFd/HtGnTePDBB4mPj/d8de3atc46qspzzz3HpEmT\nCAsLIyIigsWLFwPw6quvMmnSJBYsWEBISAgLFiwgPT2dvLw8fvCDHwAwdepUEhMT+fjjj+u0e+ON\nN7Jo0SJyc3M9r2o8++yz9OrV64ofZ3NEVa/6TlsjLS1Nd+7c6e8wjDEBoLS0lLi4OH+H0SZUVVVR\nVVVFaGgoZWVlDBs2jLKyMkJCAq/v09DPVUR2qWpaI5t4BN7RGmOM+dbOnTtHVlYWVVVVqKqnxxZs\ngu+IjTEmCEVGRrJr1y5/h+F39iCLMcaYoGFJzxhjTNCwpGeMMSZoWNIzxhgTNCzpGWOMj2RmZtZ7\n0bywsJCpU6c2uV1ERAQAR44cIScnp8F1hgwZQnOvbxUWFlJZWemZv/vuu/niiy9aEnqTDh06xJAh\nQ0hJSSEuLs4zVFkgsKRnjDGOon1FxBTG0O4X7YgpjKFoX+sqLOTl5bFy5co6y1auXEleXl6Ltr/p\npptYtWqV1/u/POm9/fbbREZGet1ejenTpzNz5kz27NlDaWkp06ZNa3Wb1dXVrW6jJSzpGWMM7oQ3\n+feT+aziMxTls4rPmPz7ya1KfDk5Ofzxj3/0jEJSXl7OkSNHyMjI8Lw353K5SExMZO3atfW2Ly8v\nJyEhAYALFy4wZswY4uLiGDlyJBcuXPCsN3XqVE9ZoqeffhqAl19+mSNHjpCZmUlmZiYAMTExnDp1\nCoA5c+Z4SgLVlCUqLy8nLi6OSZMm0bdvX4YNG1ZnPzWOHj1Kz549PfOJiYmAO3E9/vjjJCQkkJSU\n5Ck1VFxcTGpqKomJiUyYMIGLziDeMTEx/PSnP8XlcvHWW2/xt7/9jREjRtCvXz8yMjI4ePCg1+e+\nMT59T09ERgBzgfbAr1W14LLPOwLLgH7AaSBXVct9GZMxJjjN2DCDPccaLy304eEPuVhdt6JC5deV\nTFw7kdd2NVxaKKVHCoUjGh/IOioqivT0dNavX092djYrV67kgQceQEQIDQ1lzZo1dOnShVOnTtG/\nf3/uvffeRgd1njdvHuHh4ZSWllJSUlKnNNDs2bOJioqiurqarKwsSkpKmD59OnPmzGHjxo1cf/31\nddratWsXS5YsYdu2bagqt912G4MHD6Zbt26UlZWxYsUKXnvtNR544AFWr17N+PHj62w/c+ZM7rjj\nDgYOHMiwYcN4+OGHiYyMZOHChZSXl7Nnzx5CQkI4c+YMX331Ffn5+RQXF3Prrbfy4IMPMm/ePGbM\nmAG4C+3u3r0bgKysLObPn0+vXr3Ytm0bP/rRj3j//fcbPb/e8FlPT0TaA78C7gLigTwRib9stYnA\n/6nq94GXgF/6Kh5jjGnK5QmvueUtVfsSZ+1Lm6rKE088QVJSEnfeeSeff/45x48fb7SdzZs3e5JP\nTRWEGm+++SYul4vU1FQ++uijBgeTrm3Lli2MHDmSTp06ERERwahRozwlgWJjY0lJSQEaL1/08MMP\nU1payujRo9m0aRP9+/fn4sWL/OlPf2LKlCmekV6ioqI4dOgQsbGxnmK0Dz30UJ1BrXNzcwH3iDFb\nt25l9OjRpKSkMGXKFI4ePdrkcXjDlz29dOBjVf0EQERWAtlA7Z9GNvBzZ3oV8KqIiAbagKDGmDav\nqR4ZQExhDJ9V1C8tFN01mk35m7zeb3Z2NjNnzmT37t1UVlbSr18/AIqKijh58iS7du2iQ4cOxMTE\nNFhOqDmffvopL774Ijt27KBbt27k5+d71U6NmrJE4C5N1NDlTXDfb5wwYQITJkwgISGB/fv3e7W/\nmhJEly5dIjIysl419yvNl/f0bgb+UWv+sLOswXVUtQqoAL5zeUMiMllEdorIzpMnT/ooXGNMMJud\nNZvwDnVLC4V3CGd2VutKC0VERJCZmcmECRPqPMBSUVFB9+7d6dChAxs3buSzhmr51XL77bfzxhtv\nALB//35KSkoAdzmgTp060bVrV44fP8769es923Tu3Jkvv/yyXlsZGRn87ne/o7KykvPnz7NmzZoG\nSwI1ZsOGDXz99dcAHDt2jNOnT3PzzTczdOhQFixY4Knhd+bMGXr37k15ebmn8sLy5csZPHhwvTa7\ndOlCbGwsb731FuDuCe/du7fFMbVUQDzIoqoLVTVNVdNuuOEGf4djjLkGjUscx8J7FhLdNRpBiO4a\nzcJ7FjIusfWlhfLy8ti7d2+dpDdu3Dh27txJYmIiy5Yto0+fPk22MXXqVM6dO0dcXBxPPfWUp8eY\nnJxMamoqffr0YezYsXXKEk2ePJkRI0Z4HmSp4XK5yM/PJz09ndtuu41HHnmE1NTUFh/Pu+++S0JC\nAsnJyQwfPpwXXniBHj168Mgjj3DLLbeQlJREcnIyb7zxBqGhoSxZsoTRo0eTmJhIu3bt+OEPf9hg\nu0VFRSxatMhT2b2hh3tay2elhURkAPBzVR3uzP8MQFWfq7XOO846fxGREOAYcENTlzettJAxpqWs\ntNC1qTWlhXzZ09sB9BKRWBG5DhgDrLtsnXXAQ850DvC+3c8zxhjjKz57kEVVq0TkMeAd3K8sLFbV\nj0TkGWCnqq4DFgHLReRj4AzuxGiMMcb4hE/f01PVt4G3L1v2VK3pr4DRvozBGGOMqREQD7IYY4y3\n7I7JtaW1P09LesaYa1ZoaCinT5+2xHeNUFVOnz5NaGio12349PKmMcb4U8+ePTl8+DD2fu+1IzQ0\ntM64n9+WJT1jzDWrQ4cOxMbG+jsM04bY5U1jjDFBw5KeMcaYoGFJzxhjTNDw2TBkviIiJ4GmR2YN\nfNcDp/wdRICyc+c9O3fes3PnvSt17qJVtdnBmQMu6QUDEdnZkjHkTH127rxn5857du68d7XPnV3e\nNMYYEzQs6RljjAkalvTapoX+DiCA2bnznp0779m5895VPXd2T88YY0zQsJ6eMcaYoGFJrw0RkX8R\nkY0ickBEPhKRH/s7pkAjIu1F5K8i8gd/xxJIRCRSRFaJyEERKRWRAf6OKVCIyEzn93W/iKwQEe9H\nQ77GichiETkhIvtrLYsSkfdEpMz53s2XMVjSa1uqgP9Q1XigP/CoiMT7OaZA82Og1N9BBKC5wAZV\n7QMkY+ewRUTkZmA6kKaqCbgLZlsx7MYtBUZctmwWUKyqvYBiZ95nLOm1Iap6VFV3O9Nf4v7Dc7N/\nowocItIT+Ffg1/6OJZCISFfgdmARgKr+U1W/8G9UASUECBORECAcOOLneNosVd0MnLlscTbwujP9\nOnCfL2OwpNdGiUgMkAps828kAaUQ+E/gkr8DCTCxwElgiXNp+Nci0snfQQUCVf0ceBH4O3AUqFDV\nd/0bVcC5UVWPOtPHgBt9uTNLem2QiEQAq4EZqnrW3/EEAhH5N+CEqu7ydywBKARwAfNUNRU4j48v\nMV0rnPtP2bj/cbgJ6CQi4/0bVeBS9+sEPn2lwJJeGyMiHXAnvCJV/a2/4wkgg4B7RaQcWAncISK/\n8W9IAeMwcFhVa64qrMKdBE3z7gQ+VdWTqvo18FtgoJ9jCjTHReS7AM73E77cmSW9NkREBPd9lVJV\nnePveAKJqv5MVXuqagzuBwneV1X7j7sFVPUY8A8R6e0sygIO+DGkQPJ3oL+IhDu/v1nYQ0Df1jrg\nIWf6IWCtL3dmSa9tGQT8O+5eyh7n625/B2WCwjSgSERKgBTgWT/HExCc3vEqYDewD/ffVBudpREi\nsgL4C9BbRA6LyESgABgqImW4e84FPo3BRmQxxhgTLKynZ4wxJmhY0jPGGBM0LOkZY4wJGpb0jDHG\nBA1LesYYY4KGJT1jGiEiWvsFdxEJEZGT3lZwEJF7RcRvI52IyCYROSQiJU41hVdFJLIV7eWLyE21\n5stF5PorE60xvmFJz5jGnQcSRCTMmR8KfO5tY6q6TlV9+g5SC4xT1SQgCbhI614Ezsc99JYxAcOS\nnjFNext35QaAPGBFzQciki4if3EGad5aM6KJU19tsTOd6NRZC3d6Rq86y5eKyDwR+VBEPhGRIU6t\nsVIRWVprH+dqTefUfNbS7Rujqv/EPTj3LSKS7LQ5XkS2O4MiLBCR9jUxiMhLTs24YhG5QURygDTc\nL7TvqfWPwTQR2S0i+0Skjxfn2xifsqRnTNNWAmOcwqBJ1K16cRDIcAZpfopvRjGZC3xfREYCS4Ap\nqlrZQNvdgAHATNxDMb0E9AUSRSSlBbG1antVrQb2An1EJA7IBQapagpQDYxzVu0E7FTVvsAHwNOq\nugrYibvnmKKqF5x1T6mqC5gHPN6CYzDmqgrxdwDGtGWqWuKUecrD3eurrSvwuoj0wj0yfAdnm0si\nkg+UAAtU9X8aaf73qqoisg84rqr7AETkIyAG2NNMeK3dHkCc71lAP2CHewhJwvhm4N9LwH8707/B\nPahyY2o+2wWMasH+jbmqLOkZ07x1uGumDQG+U2v5fwEbVXWkkxg31fqsF3COpu95XXS+X6o1XTNf\n87tZe5zAUC+2b5Rz+TIR9wDJ3YHXVfVnzW1H06VfauKobkkMxlxtdnnTmOYtBn5R05OqpSvfPNiS\nX7PQqUT+Mu5q5N9x7n9567iIxIlIO2BkK9qpwylh9RzwD1UtAYqBHBHp7nweJSLRzurtgJpjGAts\ncaa/BDpfqZiMuRos6RnTDFU9rKovN/DR88BzIvJX6vZqXgJ+par/C0wECmqSiRdmAX8AtuKuzN1a\nNZUU9uO+V5cNoKoHgCeBd53P3wO+62xzHkgXkf3AHcAzzvKlwPzLHmQxpk2zKgvGmCaJyDlVjfB3\nHMZcCdbTM8YYEzSsp2eMMSZoWE/PGGNM0LCkZ4wxJmhY0jPGGBM0LOkZY4wJGpb0jDHGBA1LesYY\nY4LG/wN0c6mSDlNofQAAAABJRU5ErkJggg==\n",
      "text/plain": [
       "<matplotlib.figure.Figure at 0x10d3d8610>"
      ]
     },
     "metadata": {},
     "output_type": "display_data"
    }
   ],
   "source": [
    "vs.ModelComplexity(X_train, y_train)"
   ]
  },
  {
   "cell_type": "markdown",
   "metadata": {},
   "source": [
    "### Question 5 - Bias-Variance Tradeoff\n",
    "* When the model is trained with a maximum depth of 1, does the model suffer from high bias or from high variance? \n",
    "* How about when the model is trained with a maximum depth of 10? What visual cues in the graph justify your conclusions?\n",
    "\n",
    "**Hint:** High bias is a sign of underfitting(model is not complex enough to pick up the nuances in the data) and high variance is a sign of overfitting(model is by-hearting the data and cannot generalize well). Think about which model(depth 1 or 10) aligns with which part of the tradeoff."
   ]
  },
  {
   "cell_type": "markdown",
   "metadata": {},
   "source": [
    "**Answer: ** Going from the basic principles in high bias, which says that a model is not complex enough to represent the data such, so it's defined as underfitted, while high variance states that on the other hand a model is now too complex and it cannot perform well on unseen points, which is known as overfitting. Therefore, when looking at the graph at depth ~1, we can notice a high bias, that is, the model has a poor performance because it is not using the dataset full power. However as the maximum depth increases, we can see diminishing returns, because based on the principles we agreed, this model now needs far more data to decrease variance and improve score, but since data on most cases it's limited, it becomes important to build a coherent model."
   ]
  },
  {
   "cell_type": "markdown",
   "metadata": {},
   "source": [
    "### Question 6 - Best-Guess Optimal Model\n",
    "* Which maximum depth do you think results in a model that best generalizes to unseen data? \n",
    "* What intuition lead you to this answer?\n",
    "\n",
    "** Hint: ** Look at the graph above Question 5 and see where the validation scores lie for the various depths that have been assigned to the model. Does it get better with increased depth? At what point do we get our best validation score without overcomplicating our model? And remember, Occams Razor states \"Among competing hypotheses, the one with the fewest assumptions should be selected.\""
   ]
  },
  {
   "cell_type": "markdown",
   "metadata": {},
   "source": [
    "**Answer: ** It is clear that given the circumstances, an optimal point for depth is ~4. Why? We can see that at this point, both training and test score reach both a good standard, and that after that the algorithm starts to get diminishing returns, and starts to suffer from high variance."
   ]
  },
  {
   "cell_type": "markdown",
   "metadata": {},
   "source": [
    "-----\n",
    "\n",
    "## Evaluating Model Performance\n",
    "In this final section of the project, you will construct a model and make a prediction on the client's feature set using an optimized model from `fit_model`."
   ]
  },
  {
   "cell_type": "markdown",
   "metadata": {},
   "source": [
    "### Question 7 - Grid Search\n",
    "* What is the grid search technique?\n",
    "* How it can be applied to optimize a learning algorithm?\n",
    "\n",
    "** Hint: ** When explaining the Grid Search technique, be sure to touch upon why it is used,  what the 'grid' entails and what the end goal of this method is. To solidify your answer, you can also give an example of a parameter in a model that can be optimized using this approach."
   ]
  },
  {
   "cell_type": "markdown",
   "metadata": {},
   "source": [
    "**Answer: ** Firstly let me give credits to the explanation of both: http://stackoverflow.com/questions/22903267/what-is-tuning-in-machine-learning and http://scikit-learn.org/stable/modules/grid_search.html. Now putting in simple words, grid search means finding the best combination of hyper parameters of an estimator, through a \"try and error\" approach. The algorithm builds all possibles combinations passed, and checks which one has the best performance. This is particularly useful because otherwise it would have to be done through a guess, or manually implementing an algorithm that maximizes the result of a set of parameters. Therefore, with a set of \"tunned\" parameters that dictate how an estimator learns, it is more likely that at the end the learning performance will be as well increased."
   ]
  },
  {
   "cell_type": "markdown",
   "metadata": {},
   "source": [
    "### Question 8 - Cross-Validation\n",
    "\n",
    "* What is the k-fold cross-validation training technique? \n",
    "\n",
    "* What benefit does this technique provide for grid search when optimizing a model?\n",
    "\n",
    "**Hint:** When explaining the k-fold cross validation technique, be sure to touch upon what 'k' is, how the dataset is split into different parts for training and testing and the number of times it is run based on the 'k' value.\n",
    "\n",
    "When thinking about how k-fold cross validation helps grid search, think about the main drawbacks of grid search which are hinged upon **using a particular subset of data for training or testing** and how k-fold cv could help alleviate that. You can refer to the [docs](http://scikit-learn.org/stable/modules/cross_validation.html#cross-validation) for your answer."
   ]
  },
  {
   "cell_type": "markdown",
   "metadata": {},
   "source": [
    "**Answer: ** It is a technique that enables one to use its dataset completely for both training and testing. The fundamental principle it is to divide the data into k \"folds\"/chunks, that at each experiment executed, i.e k, one chunk it's used for test while the rest of them are for training. This maximizes accuracy, and is beneficial to grid search because each combination will now have the chance to operate on a larger portion of the data, therefore maximizing at the end the perfomance of the estimator as a whole."
   ]
  },
  {
   "cell_type": "markdown",
   "metadata": {},
   "source": [
    "### Implementation: Fitting a Model\n",
    "Your final implementation requires that you bring everything together and train a model using the **decision tree algorithm**. To ensure that you are producing an optimized model, you will train the model using the grid search technique to optimize the `'max_depth'` parameter for the decision tree. The `'max_depth'` parameter can be thought of as how many questions the decision tree algorithm is allowed to ask about the data before making a prediction. Decision trees are part of a class of algorithms called *supervised learning algorithms*.\n",
    "\n",
    "In addition, you will find your implementation is using `ShuffleSplit()` for an alternative form of cross-validation (see the `'cv_sets'` variable). While it is not the K-Fold cross-validation technique you describe in **Question 8**, this type of cross-validation technique is just as useful!. The `ShuffleSplit()` implementation below will create 10 (`'n_splits'`) shuffled sets, and for each shuffle, 20% (`'test_size'`) of the data will be used as the *validation set*. While you're working on your implementation, think about the contrasts and similarities it has to the K-fold cross-validation technique.\n",
    "\n",
    "Please note that ShuffleSplit has different parameters in scikit-learn versions 0.17 and 0.18.\n",
    "For the `fit_model` function in the code cell below, you will need to implement the following:\n",
    "- Use [`DecisionTreeRegressor`](http://scikit-learn.org/stable/modules/generated/sklearn.tree.DecisionTreeRegressor.html) from `sklearn.tree` to create a decision tree regressor object.\n",
    "  - Assign this object to the `'regressor'` variable.\n",
    "- Create a dictionary for `'max_depth'` with the values from 1 to 10, and assign this to the `'params'` variable.\n",
    "- Use [`make_scorer`](http://scikit-learn.org/stable/modules/generated/sklearn.metrics.make_scorer.html) from `sklearn.metrics` to create a scoring function object.\n",
    "  - Pass the `performance_metric` function as a parameter to the object.\n",
    "  - Assign this scoring function to the `'scoring_fnc'` variable.\n",
    "- Use [`GridSearchCV`](http://scikit-learn.org/0.17/modules/generated/sklearn.grid_search.GridSearchCV.html) from `sklearn.grid_search` to create a grid search object.\n",
    "  - Pass the variables `'regressor'`, `'params'`, `'scoring_fnc'`, and `'cv_sets'` as parameters to the object. \n",
    "  - Assign the `GridSearchCV` object to the `'grid'` variable."
   ]
  },
  {
   "cell_type": "code",
   "execution_count": 16,
   "metadata": {
    "collapsed": true
   },
   "outputs": [],
   "source": [
    "# TODO: Import 'make_scorer', 'DecisionTreeRegressor', and 'GridSearchCV'\n",
    "from sklearn.grid_search import GridSearchCV\n",
    "from sklearn.metrics import make_scorer\n",
    "from sklearn.tree import DecisionTreeRegressor\n",
    "from sklearn.cross_validation import ShuffleSplit\n",
    "\n",
    "def fit_model(X, y):\n",
    "    \"\"\" Performs grid search over the 'max_depth' parameter for a \n",
    "        decision tree regressor trained on the input data [X, y]. \"\"\"\n",
    "    \n",
    "    # Create cross-validation sets from the training data\n",
<<<<<<< HEAD
    "    #cv_sets = ShuffleSplit(X.shape[0], n_splits = 10, test_size = 0.20, random_state = 0)\n",
=======
    "    # sklearn version 0.18: ShuffleSplit(n_splits=10, test_size=0.1, train_size=None, random_state=None)\n",
    "    # sklearn versiin 0.17: ShuffleSplit(n, n_iter=10, test_size=0.1, train_size=None, random_state=None)\n",
>>>>>>> upstream/master
    "    cv_sets = ShuffleSplit(X.shape[0], n_iter = 10, test_size = 0.20, random_state = 0)\n",
    "\n",
    "    # TODO: Create a decision tree regressor object\n",
    "    regressor = DecisionTreeRegressor(random_state=0)\n",
    "\n",
    "    # TODO: Create a dictionary for the parameter 'max_depth' with a range from 1 to 10\n",
    "    params = {\"max_depth\" : range(1,11)}\n",
    "\n",
    "    # TODO: Transform 'performance_metric' into a scoring function using 'make_scorer' \n",
    "    scoring_fnc = make_scorer(performance_metric)\n",
    "\n",
<<<<<<< HEAD
    "    # TODO: Create the grid search object\n",
    "    grid = GridSearchCV(regressor, params, cv=cv_sets,scoring=scoring_fnc)\n",
=======
    "    # TODO: Create the grid search cv object --> GridSearchCV()\n",
    "    # Make sure to include the right parameters in the object:\n",
    "    # (estimator, param_grid, scoring, cv) which have values 'regressor', 'params', 'scoring_fnc', and 'cv_sets' respectively.\n",
    "    grid = None\n",
>>>>>>> upstream/master
    "\n",
    "    # Fit the grid search object to the data to compute the optimal model\n",
    "    grid = grid.fit(X, y)\n",
    "\n",
    "    # Return the optimal model after fitting the data\n",
    "    return grid.best_estimator_"
   ]
  },
  {
   "cell_type": "markdown",
   "metadata": {},
   "source": [
    "### Making Predictions\n",
    "Once a model has been trained on a given set of data, it can now be used to make predictions on new sets of input data. In the case of a *decision tree regressor*, the model has learned *what the best questions to ask about the input data are*, and can respond with a prediction for the **target variable**. You can use these predictions to gain information about data where the value of the target variable is unknown — such as data the model was not trained on."
   ]
  },
  {
   "cell_type": "markdown",
   "metadata": {},
   "source": [
    "### Question 9 - Optimal Model\n",
    "\n",
    "* What maximum depth does the optimal model have? How does this result compare to your guess in **Question 6**?  \n",
    "\n",
    "Run the code block below to fit the decision tree regressor to the training data and produce an optimal model."
   ]
  },
  {
   "cell_type": "code",
   "execution_count": 17,
   "metadata": {
    "collapsed": true,
    "scrolled": true
   },
   "outputs": [
    {
     "name": "stdout",
     "output_type": "stream",
     "text": [
      "Parameter 'max_depth' is 4 for the optimal model.\n"
     ]
    }
   ],
   "source": [
    "# Fit the training data to the model using grid search\n",
    "reg = fit_model(X_train, y_train)\n",
    "\n",
    "# Produce the value for 'max_depth'\n",
    "print \"Parameter 'max_depth' is {} for the optimal model.\".format(reg.get_params()['max_depth'])"
   ]
  },
  {
   "cell_type": "markdown",
   "metadata": {},
   "source": [
<<<<<<< HEAD
    "**Answer: ** The maximum depth for the Decision Tree Model is 4. This is exactly the answer I put on question 6, given that I had a visual cue of what the ideal should be. "
=======
    "** Hint: ** The answer comes from the output of the code snipped above.\n",
    "\n",
    "**Answer: **"
>>>>>>> upstream/master
   ]
  },
  {
   "cell_type": "markdown",
   "metadata": {},
   "source": [
    "### Question 10 - Predicting Selling Prices\n",
    "Imagine that you were a real estate agent in the Boston area looking to use this model to help price homes owned by your clients that they wish to sell. You have collected the following information from three of your clients:\n",
    "\n",
    "| Feature | Client 1 | Client 2 | Client 3 |\n",
    "| :---: | :---: | :---: | :---: |\n",
    "| Total number of rooms in home | 5 rooms | 4 rooms | 8 rooms |\n",
    "| Neighborhood poverty level (as %) | 17% | 32% | 3% |\n",
    "| Student-teacher ratio of nearby schools | 15-to-1 | 22-to-1 | 12-to-1 |\n",
    "\n",
    "* What price would you recommend each client sell his/her home at? \n",
    "* Do these prices seem reasonable given the values for the respective features? \n",
    "\n",
    "**Hint:** Use the statistics you calculated in the **Data Exploration** section to help justify your response.  Of the three clients, client 3 has has the biggest house, in the best public school neighborhood with the lowest poverty level; while client 2 has the smallest house, in a neighborhood with a relatively high poverty rate and not the best public schools.\n",
    "\n",
    "Run the code block below to have your optimized model make predictions for each client's home."
   ]
  },
  {
   "cell_type": "code",
   "execution_count": 18,
   "metadata": {
    "collapsed": true
   },
   "outputs": [
    {
     "name": "stdout",
     "output_type": "stream",
     "text": [
      "Predicted selling price for Client 1's home: $406,933.33\n",
      "Predicted selling price for Client 2's home: $232,200.00\n",
      "Predicted selling price for Client 3's home: $938,053.85\n"
     ]
    }
   ],
   "source": [
    "# Produce a matrix for client data\n",
    "client_data = [[5, 17, 15], # Client 1\n",
    "               [4, 32, 22], # Client 2\n",
    "               [8, 3, 12]]  # Client 3\n",
    "\n",
    "# Show predictions\n",
    "for i, price in enumerate(reg.predict(client_data)):\n",
    "    print \"Predicted selling price for Client {}'s home: ${:,.2f}\".format(i+1, price)"
   ]
  },
  {
   "cell_type": "markdown",
   "metadata": {},
   "source": [
    "**Answer: ** Before running the code, I would recommend for: \n",
    "\n",
    "* Client 1: The owner it's in the median/mean value, considering the two other data points, therefore, a price close to $450K.\n",
    "\n",
    "* Client 2: The owner seems to be in a worse scenario than Client 1, based on the principles we've agreed on question 1, it is more likely to sell the house for a lower price, and considering the standard deviation, something close to $295K\n",
    "\n",
    "* Client 3: This one seems to be in the best case scenario, with a big house, good schools around and sorrounded by rich peers, therefore, the price to sell I would say the max value with 1 standard deviation of difference, something close to $860K for the house.\n",
    "\n",
    "\n",
    "However, now that I've run the code, and made a few mistakes, considering a good margin, I would recommend all three prices given by the algorithm, as they indeed seem reasonable, given the basic principles for the dataset. "
   ]
  },
  {
   "cell_type": "markdown",
   "metadata": {},
   "source": [
    "### Sensitivity\n",
    "An optimal model is not necessarily a robust model. Sometimes, a model is either too complex or too simple to sufficiently generalize to new data. Sometimes, a model could use a learning algorithm that is not appropriate for the structure of the data given. Other times, the data itself could be too noisy or contain too few samples to allow a model to adequately capture the target variable — i.e., the model is underfitted. \n",
    "\n",
    "**Run the code cell below to run the `fit_model` function ten times with different training and testing sets to see how the prediction for a specific client changes with respect to the data it's trained on.**"
   ]
  },
  {
   "cell_type": "code",
   "execution_count": 20,
   "metadata": {
    "collapsed": true
   },
   "outputs": [
    {
     "name": "stdout",
     "output_type": "stream",
     "text": [
      "Trial 1: $391,183.33\n",
      "Trial 2: $424,935.00\n",
      "Trial 3: $415,800.00\n",
      "Trial 4: $420,622.22\n",
      "Trial 5: $418,377.27\n",
      "Trial 6: $411,931.58\n",
      "Trial 7: $399,663.16\n",
      "Trial 8: $407,232.00\n",
      "Trial 9: $351,577.61\n",
      "Trial 10: $413,700.00\n",
      "\n",
      "Range in prices: $73,357.39\n"
     ]
    }
   ],
   "source": [
    "vs.PredictTrials(features, prices, fit_model, client_data)"
   ]
  },
  {
   "cell_type": "markdown",
   "metadata": {},
   "source": [
    "### Question 11 - Applicability\n",
    "\n",
    "* In a few sentences, discuss whether the constructed model should or should not be used in a real-world setting.  \n",
    "\n",
    "**Hint:** Take a look at the range in prices as calculated in the code snippet above. Some questions to answering:\n",
    "- How relevant today is data that was collected from 1978? How important is inflation?\n",
    "- Are the features present in the data sufficient to describe a home? Do you think factors like quality of apppliances in the home, square feet of the plot area, presence of pool or not etc should factor in?\n",
    "- Is the model robust enough to make consistent predictions?\n",
    "- Would data collected in an urban city like Boston be applicable in a rural city?\n",
    "- Is it fair to judge the price of an individual home based on the characteristics of the entire neighborhood?"
   ]
  },
  {
   "cell_type": "markdown",
   "metadata": {},
   "source": [
    "**Answer: ** As I have said earlier in the project, the dataset does not have enough features to not only describe a home, but to understand its environment. The model as it is now, makes predictions with a large variance between each trial, which in real life would upset anyone trying to get most money possible out of a sale. Furthermore, the ideas would not be applicable in rural cities, giving a lot of false positives, for there is other variables in their environment that are completly different from Boston. To finish, the world it's completely different of what it was in 78, therefore making the dataset less reliable for a machine learning algorithm."
   ]
  },
  {
   "cell_type": "markdown",
   "metadata": {},
   "source": [
    "> **Note**: Once you have completed all of the code implementations and successfully answered each question above, you may finalize your work by exporting the iPython Notebook as an HTML document. You can do this by using the menu above and navigating to  \n",
    "**File -> Download as -> HTML (.html)**. Include the finished document along with this notebook as your submission."
   ]
  }
 ],
 "metadata": {
  "anaconda-cloud": {},
  "kernelspec": {
<<<<<<< HEAD
   "display_name": "Python 2",
=======
   "display_name": "Python 3",
>>>>>>> upstream/master
   "language": "python",
   "name": "python3"
  },
  "language_info": {
   "codemirror_mode": {
    "name": "ipython",
    "version": 3
   },
   "file_extension": ".py",
   "mimetype": "text/x-python",
   "name": "python",
   "nbconvert_exporter": "python",
<<<<<<< HEAD
   "pygments_lexer": "ipython2",
   "version": "2.7.10"
=======
   "pygments_lexer": "ipython3",
   "version": "3.6.0"
>>>>>>> upstream/master
  }
 },
 "nbformat": 4,
 "nbformat_minor": 1
}
